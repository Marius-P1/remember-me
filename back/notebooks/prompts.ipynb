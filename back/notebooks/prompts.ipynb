{
 "cells": [
  {
   "cell_type": "code",
   "execution_count": 2,
   "metadata": {},
   "outputs": [
    {
     "data": {
      "text/plain": [
       "True"
      ]
     },
     "execution_count": 2,
     "metadata": {},
     "output_type": "execute_result"
    }
   ],
   "source": [
    "from dotenv import load_dotenv, find_dotenv\n",
    "load_dotenv(find_dotenv())"
   ]
  },
  {
   "cell_type": "code",
   "execution_count": 3,
   "metadata": {},
   "outputs": [],
   "source": [
    "from langchain.chat_models import init_chat_model\n",
    "from elevenlabs.client import ElevenLabs\n",
    "from elevenlabs import play, save\n",
    "from langchain_core.messages import HumanMessage, SystemMessage\n",
    "from langchain_core.prompts import ChatPromptTemplate\n",
    "from IPython.display import display, Markdown\n",
    "from typing import List\n",
    "from enum import Enum\n",
    "import os\n",
    "\n",
    "from pydantic import BaseModel, Field\n",
    "import json\n",
    "from typing import List"
   ]
  },
  {
   "cell_type": "code",
   "execution_count": 4,
   "metadata": {},
   "outputs": [],
   "source": [
    "#model = init_chat_model(\"ministral-8b-latest\", model_provider=\"mistralai\", temperature=0)\n",
    "model = init_chat_model(\"mistral-large-latest\", model_provider=\"mistralai\", temperature=0.2)\n",
    "#model = init_chat_model(\"gpt-4o-mini\", model_provider=\"openai\", temperature=0.3, max_retries=3)"
   ]
  },
  {
   "cell_type": "code",
   "execution_count": 11,
   "metadata": {},
   "outputs": [],
   "source": [
    "class Period(str, Enum):\n",
    "    \"\"\"Enum for periods of life.\"\"\"\n",
    "    CHILDHOOD = \"childhood\"\n",
    "    ADOLESCENCE = \"adolescence\"\n",
    "    YOUNG_ADULTHOOD = \"young_adulthood\"\n",
    "    ADULTHOOD = \"adulthood\"\n",
    "    OLD_AGE = \"old_age\"\n",
    "\n",
    "class Person(BaseModel):\n",
    "    id: int = Field(description=\"The unique identifier for the person\")\n",
    "    name: str = Field(description=\"The name of the person\")\n",
    "    relationship: str = Field(description=\"The relationship of the person to the user\")\n",
    "    age: int = Field(description=\"The age of the person\")\n",
    "    occupation: str = Field(description=\"The occupation of the person\")\n",
    "    hobbies: List[str] = Field(default_factory=list, description=\"The hobbies of the person\")\n",
    "    description: str = Field(description=\"A description of the person\")\n",
    "\n",
    "    def __str__(self):\n",
    "        return json.dumps(self.dict(), indent=2)\n",
    "\n",
    "class Memory(BaseModel):\n",
    "    people: List[int] = Field(min_items=1, decription=\"A list of IDs of people involved in the memory\")\n",
    "    place: List[str] = Field(min_items=1, default_factory=list, description=\"A list of places involved in the memory\")\n",
    "    period: List[str] = Field(min_items=1, default_factory=list)\n",
    "    emotion: List[str] = Field(min_items=1, default_factory=list)\n",
    "    description: str = Field(description=\"A description of the memory\")\n",
    "\n",
    "    def __str__(self):\n",
    "        return json.dumps(self.dict(), indent=2)\n",
    "    \n",
    "class LifeSummary(BaseModel):\n",
    "    name: str = Field(description=\"The name of the user\")\n",
    "    age: int = Field(description=\"The age of the user\")\n",
    "    occupation: str = Field(description=\"The occupation of the user\")\n",
    "    acquaintances: List[Person] = Field(min_items=5, default_factory=list, description=\"A list of acquaintances of the user (friend, colleague,  family)\")\n",
    "    memories: List[Memory] = Field(default_factory=list)\n",
    "\n",
    "    def __str__(self):\n",
    "        return json.dumps(self.dict(), indent=2)"
   ]
  },
  {
   "cell_type": "markdown",
   "metadata": {},
   "source": [
    "# Génération des souvenirs pour la vie"
   ]
  },
  {
   "cell_type": "code",
   "execution_count": 12,
   "metadata": {},
   "outputs": [],
   "source": [
    "prompt_template = ChatPromptTemplate.from_messages(\n",
    "    [\n",
    "        SystemMessage(\"Tu est un chatbot qui génère des données de synthèse sur les souvenirs sur toute la vie d'une personne agée.\"),\n",
    "        (\"user\", \"\"\"Invente cinq souvenirs. pour une personne dont voici la description :\n",
    "            Nom : {name}\n",
    "            Age : {age}\n",
    "            Profession : {occupation} \n",
    "         Rédige les souvenirs à la première personne,\n",
    "         en utilisant le vocabulaire et les émotions d'une personne âgée.\n",
    "         Chaque souvenir doit être spécifique et détaillé, en incluant la référence (id) des personnes impliquées, les lieux, la période de la vie et les émotions ressenties.\"\"\"),\n",
    "    ]\n",
    ")\n",
    "chain = prompt_template | model.with_structured_output(LifeSummary)"
   ]
  },
  {
   "cell_type": "code",
   "execution_count": 13,
   "metadata": {},
   "outputs": [],
   "source": [
    "life_summary = chain.invoke({\"name\": \"Monique\", \"age\": \"75\", \"occupation\": \"Ancienne Assistante sociale\"})"
   ]
  },
  {
   "cell_type": "code",
   "execution_count": 15,
   "metadata": {},
   "outputs": [
    {
     "data": {
      "text/plain": [
       "{'name': 'Monique',\n",
       " 'age': 75,\n",
       " 'occupation': 'Ancienne Assistante sociale',\n",
       " 'acquaintances': [{'id': 1,\n",
       "   'name': 'Pierre',\n",
       "   'relationship': 'Mari',\n",
       "   'age': 78,\n",
       "   'occupation': 'Retraité',\n",
       "   'hobbies': ['Jardinage', 'Lecture'],\n",
       "   'description': 'Mon mari depuis 50 ans, un homme patient et aimant.'},\n",
       "  {'id': 2,\n",
       "   'name': 'Sophie',\n",
       "   'relationship': 'Fille',\n",
       "   'age': 45,\n",
       "   'occupation': 'Professeur',\n",
       "   'hobbies': ['Peinture', 'Randonnée'],\n",
       "   'description': 'Ma fille aînée, une femme indépendante et passionnée par son métier.'},\n",
       "  {'id': 3,\n",
       "   'name': 'Jean',\n",
       "   'relationship': 'Fils',\n",
       "   'age': 42,\n",
       "   'occupation': 'Ingénieur',\n",
       "   'hobbies': ['Football', 'Cuisine'],\n",
       "   'description': 'Mon fils cadet, un homme dévoué à sa famille et à son travail.'},\n",
       "  {'id': 4,\n",
       "   'name': 'Marie',\n",
       "   'relationship': \"Amie d'enfance\",\n",
       "   'age': 75,\n",
       "   'occupation': 'Retraitée',\n",
       "   'hobbies': ['Tricot', 'Voyages'],\n",
       "   'description': \"Mon amie d'enfance, toujours présente dans les moments importants de ma vie.\"},\n",
       "  {'id': 5,\n",
       "   'name': 'Paul',\n",
       "   'relationship': 'Collègue',\n",
       "   'age': 73,\n",
       "   'occupation': 'Retraité',\n",
       "   'hobbies': ['Pêche', 'Bricolage'],\n",
       "   'description': \"Un collègue de longue date, avec qui j'ai partagé de nombreuses expériences professionnelles.\"}],\n",
       " 'memories': [{'people': [1],\n",
       "   'place': ['Paris'],\n",
       "   'period': ['Années 60'],\n",
       "   'emotion': ['Joie', 'Amour'],\n",
       "   'description': \"Je me souviens de notre première rencontre avec Pierre à Paris dans les années 60. C'était un jour ensoleillé, et nous nous sommes croisés dans un parc. Nous avons tout de suite ressenti une connexion spéciale. C'était le début d'une belle histoire d'amour qui dure depuis plus de 50 ans.\"},\n",
       "  {'people': [2, 3],\n",
       "   'place': ['Maison de campagne'],\n",
       "   'period': ['Années 80'],\n",
       "   'emotion': ['Bonheur', 'Fierté'],\n",
       "   'description': 'Les étés passés dans notre maison de campagne avec Sophie et Jean étaient inoubliables. Nous passions des journées entières à jouer dans le jardin, à faire des pique-niques et à profiter de la nature. Ces moments de bonheur familial sont gravés dans ma mémoire.'},\n",
       "  {'people': [4],\n",
       "   'place': ['École primaire'],\n",
       "   'period': ['Années 50'],\n",
       "   'emotion': ['Nostalgie', 'Amitié'],\n",
       "   'description': \"Marie et moi étions inséparables à l'école primaire. Nous partagions tout, nos jeux, nos secrets et nos rêves. Notre amitié a traversé les années, et elle reste une personne très chère à mon cœur.\"},\n",
       "  {'people': [5],\n",
       "   'place': ['Bureau'],\n",
       "   'period': ['Années 70'],\n",
       "   'emotion': ['Satisfaction', 'Camraderie'],\n",
       "   'description': 'Travailler avec Paul au bureau était toujours un plaisir. Nous formions une équipe soudée et nous soutenions mutuellement dans les moments difficiles. Nos discussions et nos rires ont rendu les journées de travail plus agréables.'},\n",
       "  {'people': [1, 2, 3, 4, 5],\n",
       "   'place': ['Maison familiale'],\n",
       "   'period': ['Années 90'],\n",
       "   'emotion': ['Gratitude', 'Sérénité'],\n",
       "   'description': \"Les réunions de famille dans notre maison étaient toujours des moments de grande joie. Tout le monde se retrouvait autour d'un bon repas, partageant des histoires et des rires. Ces instants de partage et de complicité me remplissent de gratitude et de sérénité.\"}]}"
      ]
     },
     "execution_count": 15,
     "metadata": {},
     "output_type": "execute_result"
    }
   ],
   "source": [
    "life_summary.model_dump()"
   ]
  },
  {
   "cell_type": "markdown",
   "metadata": {},
   "source": [
    "# Génération de souvenirs pour un évènement particulier"
   ]
  },
  {
   "cell_type": "code",
   "execution_count": 25,
   "metadata": {},
   "outputs": [],
   "source": [
    "class Person(BaseModel):\n",
    "    name: str = Field(description=\"The name of the person\")\n",
    "    relationship: str = Field(description=\"The relationship of the person to the user\")\n",
    "    age: int = Field(description=\"The age of the person\")\n",
    "    occupation: str = Field(description=\"The occupation of the person\")\n",
    "    hobbies: List[str] = Field(default_factory=list, description=\"The hobbies of the person\")\n",
    "    description: str = Field(description=\"A description of the person\")\n",
    "\n",
    "    def __str__(self):\n",
    "        return json.dumps(self.dict(), indent=2)\n",
    "\n",
    "class Memory(BaseModel):\n",
    "    person: Person = Field(decription=\"The writer of the memory\")\n",
    "    place: List[str] = Field(default_factory=list, description=\"A list of places involved in the memory\")\n",
    "    emotion: List[str] = Field(default_factory=list)\n",
    "    description: str = Field(description=\"A description of the memory\")\n",
    "\n",
    "    def __str__(self):\n",
    "        return json.dumps(self.dict(), indent=2)\n",
    "    \n",
    "class EnventMemories(BaseModel):\n",
    "    \"\"\"Memories collection about a single event with different perspectives.\"\"\"\n",
    "    event: str = Field(description=\"The specific event being remembered\")\n",
    "    memories: List[Memory] = Field(default_factory=list)\n",
    "\n",
    "    def __str__(self):\n",
    "        return json.dumps(self.dict(), indent=2)"
   ]
  },
  {
   "cell_type": "code",
   "execution_count": null,
   "metadata": {},
   "outputs": [],
   "source": [
    "prompt_template = ChatPromptTemplate(\n",
    "    [\n",
    "        (\"system\", \"\"\"Tu es un générateur de souvenirs narratifs, capable de simuler différents styles d’écriture, \n",
    "                      tons émotionnels et points de vue. Tu adoptes le rôle de plusieurs proches d'une personne agée pour raconter leurs souvenirs de leur point de vue pour un même évènement.\"\"\"),\n",
    "        (\"human\", \"\"\"Invente {nb_memories} souvenirs riches, spécifiques et émotionnels racontés par différents proches de la personne agée et liés à un même évènement ‘‘‘{event}‘‘‘. \n",
    "                      Chaque souvenir doit être rédigé à la première personne, dans un style adapté à la personnalité du narrateur.\n",
    "\n",
    "                      **Contexte de la personne agée** :\n",
    "                        - Nom : {name}\n",
    "                        - Âge : {age}\n",
    "                        - Ancienne profession : {occupation}\n",
    "                        - Elle a une mémoire défficiente, et ses proches souhaitent lui faire revivre des moments heureux à travers ces souvenirs.\n",
    "                     \n",
    "                     Rédige les souvenirs à la première personne au sujet de l'évènement : ‘‘‘{event}‘‘‘. \n",
    "                     Chaque souvenir est rédigé par un proche distinct (par exemple amis, enfants, petits-enfants, voisins, collègues retraités, etc.).\n",
    "                     Chaque souvenir doit être spécifique et détaillées et en intégrant les émotions ressenties. Utilise des anecdotes.\n",
    "                     \"\"\"\n",
    "        )\n",
    "    ]\n",
    ")\n",
    "chain = prompt_template | model.with_structured_output(EnventMemories)"
   ]
  },
  {
   "cell_type": "code",
   "execution_count": 30,
   "metadata": {},
   "outputs": [],
   "source": [
    "event_memories = chain.invoke({\"name\": \"Monique\",\n",
    "\"age\": \"75\",\n",
    "\"occupation\": \"Ancienne Assistante sociale\",\n",
    "\"event\": \"Mariage de Thibault, le petit fils de Monique\",\n",
    "\"nb_memories\": 15})"
   ]
  },
  {
   "cell_type": "code",
   "execution_count": 31,
   "metadata": {},
   "outputs": [
    {
     "data": {
      "text/plain": [
       "{'event': 'Mariage de Thibault, le petit fils de Monique',\n",
       " 'memories': [{'person': {'name': 'Monique',\n",
       "    'relationship': 'Grand-mère',\n",
       "    'age': 75,\n",
       "    'occupation': 'Ancienne Assistante sociale',\n",
       "    'hobbies': ['Jardinage', 'Lecture', 'Tricot'],\n",
       "    'description': 'Une femme douce et pleine de sagesse, avec un sourire chaleureux.'},\n",
       "   'place': ['Église Saint-Pierre', 'Salle des fêtes de la ville'],\n",
       "   'emotion': ['Joie', 'Émotion', 'Fierté'],\n",
       "   'description': \"Je me souviens de ce jour comme si c'était hier. Thibault, mon petit-fils, était si élégant dans son costume noir, avec un sourire qui illuminait son visage. Quand il a dit 'oui' à sa belle, j'ai senti une vague de bonheur m'envahir. J'ai pleuré, mais ce n'étaient que des larmes de joie. La musique jouait doucement, et je me suis rappelée de mes propres noces, il y a tant d'années. C'était un moment précieux, entourée de ma famille, tous réunis pour célébrer l'amour.\"},\n",
       "  {'person': {'name': 'Sophie',\n",
       "    'relationship': 'Fille de Monique',\n",
       "    'age': 50,\n",
       "    'occupation': 'Professeur',\n",
       "    'hobbies': ['Cuisine', 'Voyages', 'Photographie'],\n",
       "    'description': 'Une femme dynamique, toujours prête à partager des rires et des souvenirs.'},\n",
       "   'place': ['Église Saint-Pierre', 'Salle des fêtes de la ville'],\n",
       "   'emotion': ['Fierté', 'Émotion', 'Nostalgie'],\n",
       "   'description': \"Le mariage de Thibault a été un moment inoubliable pour notre famille. En voyant ma mère, Monique, si émue, j'ai ressenti une immense fierté. Elle a toujours été là pour nous, et la voir entourée de ses petits-enfants, riant et dansant, m'a rappelé combien elle nous a appris sur l'amour et la famille. Je me souviens d'une danse où elle a pris Thibault par la main, et ils ont tourné ensemble, riant aux éclats. C'était comme si le temps s'était arrêté.\"},\n",
       "  {'person': {'name': 'Julien',\n",
       "    'relationship': 'Petit-fils',\n",
       "    'age': 22,\n",
       "    'occupation': 'Étudiant',\n",
       "    'hobbies': ['Sport', 'Musique', 'Jeux vidéo'],\n",
       "    'description': 'Un jeune homme enthousiaste, toujours curieux et plein de vie.'},\n",
       "   'place': ['Église Saint-Pierre', 'Salle des fêtes de la ville'],\n",
       "   'emotion': ['Excitation', 'Amour', 'Joie'],\n",
       "   'description': \"Le mariage de Thibault était une vraie fête ! J'étais tellement excité de voir ma mère et mon père danser. Monique, ma grand-mère, était radieuse, et je me souviens d'avoir pris une photo d'elle avec Thibault juste après la cérémonie. Ils avaient tous les deux un sourire si large ! C'était un moment de pur bonheur, et je me suis senti chanceux d'être là, entouré de ma famille.\"},\n",
       "  {'person': {'name': 'Claire',\n",
       "    'relationship': 'Cousine de Thibault',\n",
       "    'age': 25,\n",
       "    'occupation': 'Graphiste',\n",
       "    'hobbies': ['Dessin', 'Mode', 'Voyages'],\n",
       "    'description': \"Une jeune femme créative, pleine d'idées et de rêves.\"},\n",
       "   'place': ['Église Saint-Pierre', 'Salle des fêtes de la ville'],\n",
       "   'emotion': ['Joie', 'Émerveillement', 'Amour'],\n",
       "   'description': \"Je n'oublierai jamais le regard de Monique pendant la cérémonie. Elle avait les larmes aux yeux, mais c'étaient des larmes de bonheur. J'ai adoré la façon dont elle a pris la main de Thibault juste avant qu'il ne s'engage. C'était comme si elle lui passait un flambeau, une bénédiction. La fête qui a suivi était magique, avec des rires et des danses. Je me suis sentie tellement chanceuse d'être entourée de ma famille.\"},\n",
       "  {'person': {'name': 'Pierre',\n",
       "    'relationship': 'Mari de Monique',\n",
       "    'age': 78,\n",
       "    'occupation': 'Retraité',\n",
       "    'hobbies': ['Pêche', 'Jardinage', 'Lecture'],\n",
       "    'description': \"Un homme sage, avec un sens de l'humour aiguisé et une grande tendresse.\"},\n",
       "   'place': ['Église Saint-Pierre', 'Salle des fêtes de la ville'],\n",
       "   'emotion': ['Fierté', 'Émotion', 'Amour'],\n",
       "   'description': \"Le mariage de Thibault m'a rappelé notre propre mariage. Monique était si belle, si émue. Je me souviens avoir pris sa main pendant la cérémonie, et j'ai vu dans ses yeux toute la joie qu'elle ressentait pour son petit-fils. C'était un moment de partage, et je me suis senti chanceux d'avoir une famille si unie. La soirée était remplie de rires, et je me suis surpris à danser avec elle, comme au bon vieux temps.\"},\n",
       "  {'person': {'name': 'Lucie',\n",
       "    'relationship': 'Voisine',\n",
       "    'age': 70,\n",
       "    'occupation': 'Retraitée',\n",
       "    'hobbies': ['Tricot', 'Jardinage', 'Bricolage'],\n",
       "    'description': 'Une femme chaleureuse, toujours prête à aider les autres.'},\n",
       "   'place': ['Église Saint-Pierre', 'Salle des fêtes de la ville'],\n",
       "   'emotion': ['Joie', 'Émotion', 'Nostalgie'],\n",
       "   'description': \"J'ai toujours admiré Monique pour sa gentillesse. Au mariage de Thibault, elle était tellement heureuse, entourée de sa famille. Je me souviens d'avoir partagé un moment avec elle, en regardant les jeunes danser. Elle m'a dit : 'C'est ce que j'ai toujours voulu pour mes petits-enfants, qu'ils soient entourés d'amour.' Cela m'a touchée profondément. C'était une belle journée.\"},\n",
       "  {'person': {'name': 'Marc',\n",
       "    'relationship': 'Amis de la famille',\n",
       "    'age': 65,\n",
       "    'occupation': 'Ingénieur',\n",
       "    'hobbies': ['Randonnée', 'Photographie', 'Voyages'],\n",
       "    'description': 'Un homme jovial, toujours prêt à faire rire les autres.'},\n",
       "   'place': ['Église Saint-Pierre', 'Salle des fêtes de la ville'],\n",
       "   'emotion': ['Amusement', 'Joie', 'Émotion'],\n",
       "   'description': \"Le mariage de Thibault était une véritable célébration ! Je me souviens de Monique, riant aux éclats pendant le discours. Elle a même raconté une histoire de jeunesse sur Thibault, et tout le monde était mort de rire. C'était un moment de partage, et je pouvais voir à quel point elle était fière de lui. La soirée s'est terminée par une danse où elle a pris le centre de la piste, et c'était un vrai régal.\"},\n",
       "  {'person': {'name': 'Émilie',\n",
       "    'relationship': 'Soeur de Thibault',\n",
       "    'age': 30,\n",
       "    'occupation': 'Infirmière',\n",
       "    'hobbies': ['Lecture', 'Yoga', 'Cuisine'],\n",
       "    'description': \"Une femme douce et attentionnée, toujours à l'écoute des autres.\"},\n",
       "   'place': ['Église Saint-Pierre', 'Salle des fêtes de la ville'],\n",
       "   'emotion': ['Fierté', 'Émotion', 'Amour'],\n",
       "   'description': \"Le mariage de Thibault a été un moment magique pour notre famille. Monique était si émue, et je me souviens de l'avoir vue essuyer une larme pendant la cérémonie. J'ai pris sa main et lui ai dit combien nous l'aimions. Elle a souri et m'a répondu : 'C'est ce qui compte le plus, ma chérie.' C'était une journée remplie d'amour, et je suis heureuse que nous ayons pu partager cela ensemble.\"},\n",
       "  {'person': {'name': 'Antoine',\n",
       "    'relationship': 'Cousin de Thibault',\n",
       "    'age': 28,\n",
       "    'occupation': 'Développeur',\n",
       "    'hobbies': ['Jeux vidéo', 'Musique', 'Voyages'],\n",
       "    'description': 'Un jeune homme enthousiaste, toujours prêt à faire la fête.'},\n",
       "   'place': ['Église Saint-Pierre', 'Salle des fêtes de la ville'],\n",
       "   'emotion': ['Excitation', 'Joie', 'Amour'],\n",
       "   'description': \"Le mariage de Thibault était une explosion de joie ! Je me souviens de Monique, dansant avec nous sur la piste. Elle avait ce sourire contagieux, et je n'ai jamais vu quelqu'un danser avec autant de passion à son âge. C'était un moment de bonheur pur, et je suis tellement reconnaissant d'avoir pu partager cela avec elle et toute la famille.\"},\n",
       "  {'person': {'name': 'Nathalie',\n",
       "    'relationship': 'Amie de Monique',\n",
       "    'age': 72,\n",
       "    'occupation': 'Retraitée',\n",
       "    'hobbies': ['Peinture', 'Lecture', 'Voyages'],\n",
       "    'description': 'Une femme pleine de vie, avec un esprit créatif.'},\n",
       "   'place': ['Église Saint-Pierre', 'Salle des fêtes de la ville'],\n",
       "   'emotion': ['Émotion', 'Amour', 'Joie'],\n",
       "   'description': \"Le mariage de Thibault était un vrai régal pour les yeux. Monique était si belle dans sa robe, et je me souviens d'avoir pris une photo d'elle avec Thibault juste après la cérémonie. Ils avaient tous les deux un sourire si large ! C'était un moment de pur bonheur, et je me suis sentie tellement chanceuse d'être là, entourée de ma famille.\"},\n",
       "  {'person': {'name': 'François',\n",
       "    'relationship': 'Fils de Monique',\n",
       "    'age': 55,\n",
       "    'occupation': 'Médecin',\n",
       "    'hobbies': ['Randonnée', 'Cuisine', 'Voyages'],\n",
       "    'description': 'Un homme sérieux, mais avec un grand cœur.'},\n",
       "   'place': ['Église Saint-Pierre', 'Salle des fêtes de la ville'],\n",
       "   'emotion': ['Fierté', 'Émotion', 'Amour'],\n",
       "   'description': \"Le mariage de Thibault a été un moment de grande fierté pour notre famille. Monique, ma mère, était si émue pendant la cérémonie. Je me souviens de son regard, plein d'amour et de tendresse. Elle a toujours été là pour nous, et la voir entourée de ses petits-enfants, riant et dansant, m'a rappelé combien elle nous a appris sur l'amour et la famille.\"},\n",
       "  {'person': {'name': 'Isabelle',\n",
       "    'relationship': 'Belle-fille de Monique',\n",
       "    'age': 45,\n",
       "    'occupation': 'Assistante administrative',\n",
       "    'hobbies': ['Cuisine', 'Bricolage', 'Jardinage'],\n",
       "    'description': 'Une femme douce et attentionnée, toujours prête à aider les autres.'},\n",
       "   'place': ['Église Saint-Pierre', 'Salle des fêtes de la ville'],\n",
       "   'emotion': ['Joie', 'Émotion', 'Amour'],\n",
       "   'description': \"Le mariage de Thibault était une belle occasion de rassembler notre famille. Monique était si heureuse, entourée de ses enfants et petits-enfants. Je me souviens d'une danse où elle a pris Thibault par la main, et ils ont tourné ensemble, riant aux éclats. C'était un moment de pur bonheur, et je me suis sentie chanceuse d'être là, entourée de ma famille.\"},\n",
       "  {'person': {'name': 'Céline',\n",
       "    'relationship': 'Amie de la famille',\n",
       "    'age': 68,\n",
       "    'occupation': 'Retraitée',\n",
       "    'hobbies': ['Peinture', 'Lecture', 'Voyages'],\n",
       "    'description': 'Une femme pleine de vie, avec un esprit créatif.'},\n",
       "   'place': ['Église Saint-Pierre', 'Salle des fêtes de la ville'],\n",
       "   'emotion': ['Émotion', 'Amour', 'Joie'],\n",
       "   'description': \"Le mariage de Thibault était un vrai régal pour les yeux. Monique était si belle dans sa robe, et je me souviens d'avoir pris une photo d'elle avec Thibault juste après la cérémonie. Ils avaient tous les deux un sourire si large ! C'était un moment de pur bonheur, et je me suis sentie tellement chanceuse d'être là, entourée de ma famille.\"}]}"
      ]
     },
     "execution_count": 31,
     "metadata": {},
     "output_type": "execute_result"
    }
   ],
   "source": [
    "event_memories.model_dump()"
   ]
  },
  {
   "cell_type": "code",
   "execution_count": 33,
   "metadata": {},
   "outputs": [],
   "source": [
    "with open(\"event_memories.json\", \"w\", encoding=\"utf-8\") as file:\n",
    "    file.write(event_memories.model_dump_json(indent=2))"
   ]
  },
  {
   "cell_type": "markdown",
   "metadata": {},
   "source": [
    "# Synthèse de l'histoire"
   ]
  },
  {
   "cell_type": "code",
   "execution_count": 5,
   "metadata": {},
   "outputs": [],
   "source": [
    "with open(\"event_memories.json\", \"r\", encoding=\"utf-8\") as file:\n",
    "    event_memories = json.load(file)"
   ]
  },
  {
   "cell_type": "code",
   "execution_count": 6,
   "metadata": {},
   "outputs": [],
   "source": [
    "class DayMemory(BaseModel):\n",
    "    title: str = Field(description=\"The title of the memory\")\n",
    "    summary: str = Field(description=\"A summary of the memory\")"
   ]
  },
  {
   "cell_type": "code",
   "execution_count": 7,
   "metadata": {},
   "outputs": [],
   "source": [
    "prompt_template = ChatPromptTemplate.from_messages(\n",
    "    [\n",
    "        (\"system\", \"\"\"Tu es un assistant bienveillant spécialisé dans la stimulation de la mémoire émotionnelle chez les personnes \n",
    "                      âgées ayant une déficience de leur mémoire. Tu aides à raviver les souvenirs marquants à travers des récits narratifs, sensoriels et profondément humains.\"\"\"),\n",
    "        (\"user\", \"\"\"\n",
    "         Voici les informations sur la personne agée :\n",
    "            Nom : {name}\n",
    "            Age : {age}\n",
    "            Profession : {occupation}\n",
    "         Voici différents souvenirs exprimées par des proches de la personne agée au sujet de l'évènement :.\n",
    "            {memories}\n",
    "         Raconte cet évènement à la personne agée comme une petite histoire intime, d’environ 100 mots, qui lui parle directement.\n",
    "         Utilise un ton amical, rassurant et affectueux, comme si tu étais un proche.\n",
    "         Fais vivre l’histoire par les émotions, les détails sensoriels (la lumière, les couleurs, les sons, les sourires…).\n",
    "         Intègre au moins une anecdote si elle est présente dans les souvenirs fournis.\n",
    "         Sois doux et encourageant : le but est de faire naître un sourire, une réminiscence, une sensation familière.\n",
    "         \"\"\"),\n",
    "    ]\n",
    ")\n",
    "chain = prompt_template | model.with_structured_output(DayMemory)"
   ]
  },
  {
   "cell_type": "code",
   "execution_count": 9,
   "metadata": {},
   "outputs": [],
   "source": [
    "resume = chain.invoke({\"name\": \"Monique\", \"age\": \"75\", \"occupation\": \"Ancienne Assistante sociale\", \"memories\":event_memories})"
   ]
  },
  {
   "cell_type": "code",
   "execution_count": 10,
   "metadata": {},
   "outputs": [
    {
     "data": {
      "text/plain": [
       "'Mariage de Thibault, le petit fils de Monique'"
      ]
     },
     "execution_count": 10,
     "metadata": {},
     "output_type": "execute_result"
    }
   ],
   "source": [
    "resume.title"
   ]
  },
  {
   "cell_type": "code",
   "execution_count": 11,
   "metadata": {},
   "outputs": [
    {
     "data": {
      "text/markdown": [
       "Monique, ma chère amie, te souviens-tu de cette journée magique où Thibault, ton petit-fils, s'est marié ? L'église Saint-Pierre était baignée d'une lumière douce, et les fleurs embaumaient l'air. Thibault, si élégant dans son costume, avait un sourire qui illuminait la pièce. Tu étais là, radieuse, les larmes aux yeux mais des larmes de joie. Tu te rappelles quand tu as pris sa main juste avant qu'il ne s'engage ? C'était un moment si émouvant. Puis, à la salle des fêtes, la musique jouait, et tu as dansé avec lui, riant aux éclats. Toute la famille était réunie, et l'amour flottait dans l'air. Tu étais si fière, si heureuse. C'était une journée inoubliable, pleine de rires et de tendresse."
      ],
      "text/plain": [
       "<IPython.core.display.Markdown object>"
      ]
     },
     "metadata": {},
     "output_type": "display_data"
    }
   ],
   "source": [
    "display(Markdown(resume.summary))"
   ]
  },
  {
   "cell_type": "code",
   "execution_count": 16,
   "metadata": {},
   "outputs": [
    {
     "name": "stdout",
     "output_type": "stream",
     "text": [
      "Audio saved to output.mp3\n"
     ]
    }
   ],
   "source": [
    "\n",
    "# Initialize ElevenLabs client with your API key\n",
    "api_key = os.getenv(\"ELEVENLABS_API_KEY\")\n",
    "client = ElevenLabs(api_key=api_key)\n",
    "text = resume.content\n",
    "voice_id = \"ViSNE020Z1wEV4uZomv5\"\n",
    "\n",
    "# Generate audio from text using the specified voice ID\n",
    "audio = client.generate(\n",
    "    text=text,\n",
    "    voice=voice_id,\n",
    "    model=\"eleven_multilingual_v2\",\n",
    "    output_format=\"mp3_44100_128\",\n",
    "\n",
    ")\n",
    "\n",
    "output_path = \"output.mp3\"\n",
    "\n",
    "# Save the generated audio to a file\n",
    "save(audio, output_path)\n",
    "print(f\"Audio saved to {output_path}\")"
   ]
  },
  {
   "cell_type": "code",
   "execution_count": null,
   "metadata": {},
   "outputs": [],
   "source": []
  }
 ],
 "metadata": {
  "kernelspec": {
   "display_name": ".venv",
   "language": "python",
   "name": "python3"
  },
  "language_info": {
   "codemirror_mode": {
    "name": "ipython",
    "version": 3
   },
   "file_extension": ".py",
   "mimetype": "text/x-python",
   "name": "python",
   "nbconvert_exporter": "python",
   "pygments_lexer": "ipython3",
   "version": "3.11.2"
  }
 },
 "nbformat": 4,
 "nbformat_minor": 2
}
