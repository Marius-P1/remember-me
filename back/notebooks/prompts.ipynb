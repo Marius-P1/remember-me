{
 "cells": [
  {
   "cell_type": "code",
   "execution_count": 1,
   "metadata": {},
   "outputs": [
    {
     "data": {
      "text/plain": [
       "True"
      ]
     },
     "execution_count": 1,
     "metadata": {},
     "output_type": "execute_result"
    }
   ],
   "source": [
    "from dotenv import load_dotenv, find_dotenv\n",
    "load_dotenv(find_dotenv())"
   ]
  },
  {
   "cell_type": "code",
   "execution_count": 2,
   "metadata": {},
   "outputs": [],
   "source": [
    "import sys\n",
    "sys.path.append(\"/workspaces/remember-me/back/src\")\n"
   ]
  },
  {
   "cell_type": "code",
   "execution_count": 3,
   "metadata": {},
   "outputs": [],
   "source": [
    "from remember.batch.generate_event_memories import generate_event_memories, save_event_memories, load_event_memories\n",
    "from remember.batch.generate_day_memory import generate_day_memory, load_day_memory, save_day_memory"
   ]
  },
  {
   "cell_type": "code",
   "execution_count": null,
   "metadata": {},
   "outputs": [],
   "source": [
    "event_memories = generate_event_memories(event = \"Les vacances à Rome\", \n",
    "                  name = \"Monique\",\n",
    "                  age = 75,\n",
    "                  occupation = \"Ancienne Assistante sociale\",\n",
    "                  nb_memories = 15) \n",
    "\n",
    "event_memories.model_dump()"
   ]
  },
  {
   "cell_type": "code",
   "execution_count": 7,
   "metadata": {},
   "outputs": [],
   "source": [
    "save_event_memories(event_memories,\"event_memories.json\")"
   ]
  },
  {
   "cell_type": "code",
   "execution_count": 4,
   "metadata": {},
   "outputs": [],
   "source": [
    "event_memories = load_event_memories(\"event_memories.json\")"
   ]
  },
  {
   "cell_type": "code",
   "execution_count": 5,
   "metadata": {},
   "outputs": [],
   "source": [
    "day_memory = generate_day_memory(name = \"Monique\",\n",
    "                  age = 75,\n",
    "                  occupation = \"Ancienne Assistante sociale\",\n",
    "                  memories = event_memories)"
   ]
  },
  {
   "cell_type": "code",
   "execution_count": 7,
   "metadata": {},
   "outputs": [],
   "source": [
    "save_day_memory(day_memory,\"day_memory.json\")"
   ]
  },
  {
   "cell_type": "code",
   "execution_count": null,
   "metadata": {},
   "outputs": [],
   "source": [
    "day_memory = load_day_memory(\"day_memory.json\")"
   ]
  },
  {
   "cell_type": "code",
   "execution_count": 8,
   "metadata": {},
   "outputs": [
    {
     "data": {
      "text/plain": [
       "DayMemory(title='Les vacances à Rome', summary=\"Monique, te souviens-tu de nos vacances à Rome ? La ville éternelle nous a accueillis avec sa chaleur et ses merveilles. Nous avons flâné dans les ruelles pavées, émerveillés par l'histoire qui se dévoilait à chaque coin de rue. Le Colisée, majestueux sous le soleil, t'a particulièrement marquée. Tu nous racontais des anecdotes sur les gladiateurs comme si tu y étais. La Fontaine de Trevi, avec ses eaux scintillantes, a vu nos vœux les plus chers. Et que dire de la Piazza Navona, où tu riais aux éclats avec les artistes de rue ? Un mime t'a même invitée à danser, c'était si drôle et léger. Rome, c'était aussi nos soirées à Trastevere, à déguster des plats typiques et à écouter de la musique italienne. Tu chantais et riais comme si tu avais 20 ans. Ces moments de complicité et de joie resteront à jamais gravés dans nos cœurs. Rome, c'était notre aventure, notre bonheur partagé.\")"
      ]
     },
     "execution_count": 8,
     "metadata": {},
     "output_type": "execute_result"
    }
   ],
   "source": [
    "day_memory"
   ]
  },
  {
   "cell_type": "code",
   "execution_count": null,
   "metadata": {},
   "outputs": [],
   "source": []
  },
  {
   "cell_type": "code",
   "execution_count": null,
   "metadata": {},
   "outputs": [],
   "source": []
  },
  {
   "cell_type": "code",
   "execution_count": 9,
   "metadata": {},
   "outputs": [],
   "source": [
    "from langchain.chat_models import init_chat_model\n",
    "from elevenlabs.client import ElevenLabs\n",
    "from elevenlabs import play, save\n",
    "from langchain_core.messages import HumanMessage, SystemMessage\n",
    "from langchain_core.prompts import ChatPromptTemplate\n",
    "from IPython.display import display, Markdown\n",
    "from typing import List\n",
    "from enum import Enum\n",
    "import os\n",
    "\n",
    "from pydantic import BaseModel, Field\n",
    "import json\n",
    "from typing import List"
   ]
  },
  {
   "cell_type": "code",
   "execution_count": 10,
   "metadata": {},
   "outputs": [],
   "source": [
    "#model = init_chat_model(\"ministral-8b-latest\", model_provider=\"mistralai\", temperature=0)\n",
    "model = init_chat_model(\"mistral-large-latest\", model_provider=\"mistralai\", temperature=0.2)\n",
    "#model = init_chat_model(\"gpt-4o-mini\", model_provider=\"openai\", temperature=0.3, max_retries=3)"
   ]
  },
  {
   "cell_type": "code",
   "execution_count": 11,
   "metadata": {},
   "outputs": [],
   "source": [
    "class Period(str, Enum):\n",
    "    \"\"\"Enum for periods of life.\"\"\"\n",
    "    CHILDHOOD = \"childhood\"\n",
    "    ADOLESCENCE = \"adolescence\"\n",
    "    YOUNG_ADULTHOOD = \"young_adulthood\"\n",
    "    ADULTHOOD = \"adulthood\"\n",
    "    OLD_AGE = \"old_age\"\n",
    "\n",
    "class Person(BaseModel):\n",
    "    id: int = Field(description=\"The unique identifier for the person\")\n",
    "    name: str = Field(description=\"The name of the person\")\n",
    "    relationship: str = Field(description=\"The relationship of the person to the user\")\n",
    "    age: int = Field(description=\"The age of the person\")\n",
    "    occupation: str = Field(description=\"The occupation of the person\")\n",
    "    hobbies: List[str] = Field(default_factory=list, description=\"The hobbies of the person\")\n",
    "    description: str = Field(description=\"A description of the person\")\n",
    "\n",
    "    def __str__(self):\n",
    "        return json.dumps(self.dict(), indent=2)\n",
    "\n",
    "class Memory(BaseModel):\n",
    "    people: List[int] = Field(min_items=1, decription=\"A list of IDs of people involved in the memory\")\n",
    "    place: List[str] = Field(min_items=1, default_factory=list, description=\"A list of places involved in the memory\")\n",
    "    period: List[str] = Field(min_items=1, default_factory=list)\n",
    "    emotion: List[str] = Field(min_items=1, default_factory=list)\n",
    "    description: str = Field(description=\"A description of the memory\")\n",
    "\n",
    "    def __str__(self):\n",
    "        return json.dumps(self.dict(), indent=2)\n",
    "    \n",
    "class LifeSummary(BaseModel):\n",
    "    name: str = Field(description=\"The name of the user\")\n",
    "    age: int = Field(description=\"The age of the user\")\n",
    "    occupation: str = Field(description=\"The occupation of the user\")\n",
    "    acquaintances: List[Person] = Field(min_items=5, default_factory=list, description=\"A list of acquaintances of the user (friend, colleague,  family)\")\n",
    "    memories: List[Memory] = Field(default_factory=list)\n",
    "\n",
    "    def __str__(self):\n",
    "        return json.dumps(self.dict(), indent=2)"
   ]
  },
  {
   "cell_type": "markdown",
   "metadata": {},
   "source": [
    "# Génération des souvenirs pour la vie"
   ]
  },
  {
   "cell_type": "code",
   "execution_count": 12,
   "metadata": {},
   "outputs": [],
   "source": [
    "prompt_template = ChatPromptTemplate.from_messages(\n",
    "    [\n",
    "        SystemMessage(\"Tu est un chatbot qui génère des données de synthèse sur les souvenirs sur toute la vie d'une personne agée.\"),\n",
    "        (\"user\", \"\"\"Invente cinq souvenirs. pour une personne dont voici la description :\n",
    "            Nom : {name}\n",
    "            Age : {age}\n",
    "            Profession : {occupation} \n",
    "         Rédige les souvenirs à la première personne,\n",
    "         en utilisant le vocabulaire et les émotions d'une personne âgée.\n",
    "         Chaque souvenir doit être spécifique et détaillé, en incluant la référence (id) des personnes impliquées, les lieux, la période de la vie et les émotions ressenties.\"\"\"),\n",
    "    ]\n",
    ")\n",
    "chain = prompt_template | model.with_structured_output(LifeSummary)"
   ]
  },
  {
   "cell_type": "code",
   "execution_count": 13,
   "metadata": {},
   "outputs": [],
   "source": [
    "life_summary = chain.invoke({\"name\": \"Monique\", \"age\": \"75\", \"occupation\": \"Ancienne Assistante sociale\"})"
   ]
  },
  {
   "cell_type": "code",
   "execution_count": 15,
   "metadata": {},
   "outputs": [
    {
     "data": {
      "text/plain": [
       "{'name': 'Monique',\n",
       " 'age': 75,\n",
       " 'occupation': 'Ancienne Assistante sociale',\n",
       " 'acquaintances': [{'id': 1,\n",
       "   'name': 'Pierre',\n",
       "   'relationship': 'Mari',\n",
       "   'age': 78,\n",
       "   'occupation': 'Retraité',\n",
       "   'hobbies': ['Jardinage', 'Lecture'],\n",
       "   'description': 'Mon mari depuis 50 ans, un homme patient et aimant.'},\n",
       "  {'id': 2,\n",
       "   'name': 'Sophie',\n",
       "   'relationship': 'Fille',\n",
       "   'age': 45,\n",
       "   'occupation': 'Professeur',\n",
       "   'hobbies': ['Peinture', 'Randonnée'],\n",
       "   'description': 'Ma fille aînée, une femme indépendante et passionnée par son métier.'},\n",
       "  {'id': 3,\n",
       "   'name': 'Jean',\n",
       "   'relationship': 'Fils',\n",
       "   'age': 42,\n",
       "   'occupation': 'Ingénieur',\n",
       "   'hobbies': ['Football', 'Cuisine'],\n",
       "   'description': 'Mon fils cadet, un homme dévoué à sa famille et à son travail.'},\n",
       "  {'id': 4,\n",
       "   'name': 'Marie',\n",
       "   'relationship': \"Amie d'enfance\",\n",
       "   'age': 75,\n",
       "   'occupation': 'Retraitée',\n",
       "   'hobbies': ['Tricot', 'Voyages'],\n",
       "   'description': \"Mon amie d'enfance, toujours présente dans les moments importants de ma vie.\"},\n",
       "  {'id': 5,\n",
       "   'name': 'Paul',\n",
       "   'relationship': 'Collègue',\n",
       "   'age': 73,\n",
       "   'occupation': 'Retraité',\n",
       "   'hobbies': ['Pêche', 'Bricolage'],\n",
       "   'description': \"Un collègue de longue date, avec qui j'ai partagé de nombreuses expériences professionnelles.\"}],\n",
       " 'memories': [{'people': [1],\n",
       "   'place': ['Paris'],\n",
       "   'period': ['Années 60'],\n",
       "   'emotion': ['Joie', 'Amour'],\n",
       "   'description': \"Je me souviens de notre première rencontre avec Pierre à Paris dans les années 60. C'était un jour ensoleillé, et nous nous sommes croisés dans un parc. Nous avons tout de suite ressenti une connexion spéciale. C'était le début d'une belle histoire d'amour qui dure depuis plus de 50 ans.\"},\n",
       "  {'people': [2, 3],\n",
       "   'place': ['Maison de campagne'],\n",
       "   'period': ['Années 80'],\n",
       "   'emotion': ['Bonheur', 'Fierté'],\n",
       "   'description': 'Les étés passés dans notre maison de campagne avec Sophie et Jean étaient inoubliables. Nous passions des journées entières à jouer dans le jardin, à faire des pique-niques et à profiter de la nature. Ces moments de bonheur familial sont gravés dans ma mémoire.'},\n",
       "  {'people': [4],\n",
       "   'place': ['École primaire'],\n",
       "   'period': ['Années 50'],\n",
       "   'emotion': ['Nostalgie', 'Amitié'],\n",
       "   'description': \"Marie et moi étions inséparables à l'école primaire. Nous partagions tout, nos jeux, nos secrets et nos rêves. Notre amitié a traversé les années, et elle reste une personne très chère à mon cœur.\"},\n",
       "  {'people': [5],\n",
       "   'place': ['Bureau'],\n",
       "   'period': ['Années 70'],\n",
       "   'emotion': ['Satisfaction', 'Camraderie'],\n",
       "   'description': 'Travailler avec Paul au bureau était toujours un plaisir. Nous formions une équipe soudée et nous soutenions mutuellement dans les moments difficiles. Nos discussions et nos rires ont rendu les journées de travail plus agréables.'},\n",
       "  {'people': [1, 2, 3, 4, 5],\n",
       "   'place': ['Maison familiale'],\n",
       "   'period': ['Années 90'],\n",
       "   'emotion': ['Gratitude', 'Sérénité'],\n",
       "   'description': \"Les réunions de famille dans notre maison étaient toujours des moments de grande joie. Tout le monde se retrouvait autour d'un bon repas, partageant des histoires et des rires. Ces instants de partage et de complicité me remplissent de gratitude et de sérénité.\"}]}"
      ]
     },
     "execution_count": 15,
     "metadata": {},
     "output_type": "execute_result"
    }
   ],
   "source": [
    "life_summary.model_dump()"
   ]
  },
  {
   "cell_type": "markdown",
   "metadata": {},
   "source": [
    "# Génération de souvenirs pour un évènement particulier"
   ]
  },
  {
   "cell_type": "code",
   "execution_count": 8,
   "metadata": {},
   "outputs": [],
   "source": [
    "class Person(BaseModel):\n",
    "    name: str = Field(description=\"The name of the person\")\n",
    "    relationship: str = Field(description=\"The relationship of the person to the user\")\n",
    "    age: int = Field(description=\"The age of the person\")\n",
    "    occupation: str = Field(description=\"The occupation of the person\")\n",
    "    hobbies: List[str] = Field(default_factory=list, description=\"The hobbies of the person\")\n",
    "    description: str = Field(description=\"A description of the person\")\n",
    "\n",
    "    def __str__(self):\n",
    "        return json.dumps(self.dict(), indent=2)\n",
    "\n",
    "class Memory(BaseModel):\n",
    "    person: Person = Field(decription=\"The writer of the memory\")\n",
    "    place: List[str] = Field(default_factory=list, description=\"A list of places involved in the memory\")\n",
    "    emotion: List[str] = Field(default_factory=list)\n",
    "    description: str = Field(description=\"A description of the memory\")\n",
    "\n",
    "    def __str__(self):\n",
    "        return json.dumps(self.dict(), indent=2)\n",
    "    \n",
    "class EnventMemories(BaseModel):\n",
    "    \"\"\"Memories collection about a single event with different perspectives.\"\"\"\n",
    "    event: str = Field(description=\"The specific event being remembered\")\n",
    "    memories: List[Memory] = Field(default_factory=list)\n",
    "\n",
    "    def __str__(self):\n",
    "        return json.dumps(self.dict(), indent=2)"
   ]
  },
  {
   "cell_type": "code",
   "execution_count": 9,
   "metadata": {},
   "outputs": [],
   "source": [
    "prompt_template = ChatPromptTemplate(\n",
    "    [\n",
    "        (\"system\", \"\"\"Tu es un générateur de souvenirs narratifs, capable de simuler différents styles d’écriture, \n",
    "                      tons émotionnels et points de vue. Tu adoptes le rôle de plusieurs proches d'une personne agée pour raconter leurs souvenirs de leur point de vue pour un même évènement.\"\"\"),\n",
    "        (\"human\", \"\"\"Invente {nb_memories} souvenirs riches, spécifiques et émotionnels racontés par différents proches de la personne agée et liés à un même évènement ‘‘‘{event}‘‘‘. \n",
    "                      Chaque souvenir doit être rédigé à la première personne, dans un style adapté à la personnalité du narrateur.\n",
    "\n",
    "                      **Contexte de la personne agée** :\n",
    "                        - Nom : {name}\n",
    "                        - Âge : {age}\n",
    "                        - Ancienne profession : {occupation}\n",
    "                        - Elle a une mémoire défficiente, et ses proches souhaitent lui faire revivre des moments heureux à travers ces souvenirs.\n",
    "                     \n",
    "                     Rédige les souvenirs à la première personne au sujet de l'évènement : ‘‘‘{event}‘‘‘. \n",
    "                     Chaque souvenir est rédigé par un proche distinct (par exemple amis, enfants, petits-enfants, voisins, collègues retraités, etc.).\n",
    "                     Chaque souvenir doit être spécifique et détaillées et en intégrant les émotions ressenties. Utilise des anecdotes.\n",
    "                     \"\"\"\n",
    "        )\n",
    "    ]\n",
    ")\n",
    "chain = prompt_template | model.with_structured_output(EnventMemories)"
   ]
  },
  {
   "cell_type": "code",
   "execution_count": 10,
   "metadata": {},
   "outputs": [],
   "source": [
    "event_memories = chain.invoke({\"name\": \"Monique\",\n",
    "\"age\": \"75\",\n",
    "\"occupation\": \"Ancienne Assistante sociale\",\n",
    "\"event\": \"Mariage de Thibault, le petit fils de Monique\",\n",
    "\"nb_memories\": 15})"
   ]
  },
  {
   "cell_type": "code",
   "execution_count": 11,
   "metadata": {},
   "outputs": [
    {
     "data": {
      "text/plain": [
       "{'event': 'Mariage de Thibault, le petit fils de Monique',\n",
       " 'memories': [{'person': {'name': 'Marie',\n",
       "    'relationship': 'Fille de Monique',\n",
       "    'age': 50,\n",
       "    'occupation': 'Professeur',\n",
       "    'hobbies': [],\n",
       "    'description': 'Une femme attentionnée et aimante, toujours prête à aider les autres.'},\n",
       "   'place': ['Église Saint-Pierre', 'Jardin des Roses'],\n",
       "   'emotion': ['Joie', 'Fierté', 'Nostalgie'],\n",
       "   'description': \"Le jour du mariage de Thibault, je me souviens de l'émotion palpable dans l'église. Monique, ma mère, était resplendissante dans sa robe bleu pastel. Elle tenait fièrement le bras de Thibault alors qu'ils remontaient l'allée. Les larmes de joie coulaient sur ses joues, et je pouvais voir dans ses yeux tout l'amour et la fierté qu'elle ressentait pour son petit-fils. Pendant la réception au Jardin des Roses, elle n'a pas cessé de sourire, partageant des anecdotes sur Thibault quand il était petit. C'était un moment de bonheur pur, et je suis si heureuse d'avoir pu le partager avec elle.\"},\n",
       "  {'person': {'name': 'Jean',\n",
       "    'relationship': 'Fils de Monique',\n",
       "    'age': 48,\n",
       "    'occupation': 'Ingénieur',\n",
       "    'hobbies': [],\n",
       "    'description': 'Un homme réservé mais très attaché à sa famille.'},\n",
       "   'place': ['Église Saint-Pierre', 'Salle de Réception des Lilas'],\n",
       "   'emotion': ['Émotion', 'Fierté', 'Reconnaissance'],\n",
       "   'description': \"Le mariage de Thibault était un moment inoubliable. Voir ma mère, Monique, si émue et fière, m'a profondément touché. Pendant la cérémonie à l'église Saint-Pierre, elle n'a pas lâché ma main, ses doigts tremblants d'émotion. À la réception, elle a dansé avec Thibault, et ce moment restera gravé dans ma mémoire. Sa joie était contagieuse, et je me suis senti reconnaissant d'avoir une famille aussi unie.\"},\n",
       "  {'person': {'name': 'Sophie',\n",
       "    'relationship': 'Petite-fille de Monique',\n",
       "    'age': 28,\n",
       "    'occupation': 'Graphiste',\n",
       "    'hobbies': [],\n",
       "    'description': 'Une jeune femme créative et passionnée, très proche de sa grand-mère.'},\n",
       "   'place': ['Jardin des Roses'],\n",
       "   'emotion': ['Bonheur', 'Excitation', 'Amour'],\n",
       "   'description': \"Le mariage de mon cousin Thibault était magique. Mamie Monique était radieuse, son sourire illuminait la pièce. Je me souviens de l'avoir vue danser avec papa, leurs rires résonnant dans le jardin. Elle m'a prise à part pour me dire combien elle était heureuse de voir notre famille réunie. Ce moment de complicité avec elle était précieux, et je chérirai toujours ce souvenir.\"},\n",
       "  {'person': {'name': 'Luc',\n",
       "    'relationship': \"Ami d'enfance de Monique\",\n",
       "    'age': 76,\n",
       "    'occupation': 'Retraité',\n",
       "    'hobbies': [],\n",
       "    'description': \"Un homme jovial et plein d'humour, toujours prêt à raconter des histoires.\"},\n",
       "   'place': ['Salle de Réception des Lilas'],\n",
       "   'emotion': ['Joie', 'Nostalgie', 'Amitié'],\n",
       "   'description': \"Assister au mariage de Thibault m'a rappelé tant de souvenirs avec Monique. Voir son petit-fils se marier était émouvant. Monique et moi avons partagé des rires et des larmes ce jour-là. Pendant la réception, nous avons évoqué nos souvenirs d'enfance, et elle m'a confié à quel point elle était fière de sa famille. C'était un moment de pure amitié et de joie partagée.\"},\n",
       "  {'person': {'name': 'Claire',\n",
       "    'relationship': 'Voisine et amie de Monique',\n",
       "    'age': 70,\n",
       "    'occupation': 'Retraitée',\n",
       "    'hobbies': [],\n",
       "    'description': \"Une femme douce et bienveillante, toujours à l'écoute.\"},\n",
       "   'place': ['Église Saint-Pierre'],\n",
       "   'emotion': ['Émotion', 'Tendresse', 'Amitié'],\n",
       "   'description': \"Le mariage de Thibault était un moment très émouvant. Monique était si belle, ses yeux brillaient de fierté. Je me souviens de l'avoir vue essuyer une larme pendant la cérémonie. Plus tard, elle m'a confié combien elle était heureuse de voir son petit-fils si épanoui. Ce jour-là, j'ai ressenti une profonde tendresse pour Monique et sa famille.\"},\n",
       "  {'person': {'name': 'Paul',\n",
       "    'relationship': 'Cousin de Monique',\n",
       "    'age': 72,\n",
       "    'occupation': 'Retraité',\n",
       "    'hobbies': [],\n",
       "    'description': 'Un homme calme et réfléchi, très attaché aux valeurs familiales.'},\n",
       "   'place': ['Jardin des Roses'],\n",
       "   'emotion': ['Joie', 'Fierté', 'Sérénité'],\n",
       "   'description': \"Le mariage de Thibault était un jour de grande joie. Monique était resplendissante, et son bonheur était contagieux. Je me souviens de l'avoir vue entourée de ses petits-enfants, riant et partageant des moments de complicité. C'était beau de voir notre famille réunie et heureuse.\"},\n",
       "  {'person': {'name': 'Élise',\n",
       "    'relationship': 'Amie de longue date de Monique',\n",
       "    'age': 74,\n",
       "    'occupation': 'Retraitée',\n",
       "    'hobbies': [],\n",
       "    'description': 'Une femme élégante et raffinée, toujours prête à soutenir ses amis.'},\n",
       "   'place': ['Salle de Réception des Lilas'],\n",
       "   'emotion': ['Bonheur', 'Nostalgie', 'Amitié'],\n",
       "   'description': \"Le mariage de Thibault était un moment merveilleux. Monique était si heureuse, et son bonheur faisait plaisir à voir. Nous avons dansé et ri ensemble, évoquant nos souvenirs communs. C'était un jour de célébration et d'amitié, et je suis reconnaissante d'avoir pu le partager avec elle.\"},\n",
       "  {'person': {'name': 'Marc',\n",
       "    'relationship': 'Beau-frère de Monique',\n",
       "    'age': 78,\n",
       "    'occupation': 'Retraité',\n",
       "    'hobbies': [],\n",
       "    'description': \"Un homme jovial et plein d'humour, toujours prêt à raconter des histoires.\"},\n",
       "   'place': ['Église Saint-Pierre', 'Jardin des Roses'],\n",
       "   'emotion': ['Joie', 'Fierté', 'Complicité'],\n",
       "   'description': \"Le mariage de Thibault était un jour mémorable. Monique était si fière et heureuse. Je me souviens de l'avoir vue rire aux éclats avec ses petits-enfants, partageant des moments de complicité. Sa joie de vivre était contagieuse, et ce jour restera gravé dans ma mémoire.\"},\n",
       "  {'person': {'name': 'Hélène',\n",
       "    'relationship': 'Collègue retraitée de Monique',\n",
       "    'age': 73,\n",
       "    'occupation': 'Retraitée',\n",
       "    'hobbies': [],\n",
       "    'description': 'Une femme dévouée et passionnée par son travail.'},\n",
       "   'place': ['Salle de Réception des Lilas'],\n",
       "   'emotion': ['Joie', 'Nostalgie', 'Amitié'],\n",
       "   'description': \"Le mariage de Thibault était un moment de grande émotion. Monique était si heureuse, et son bonheur était palpable. Nous avons partagé des rires et des souvenirs de notre passé professionnel. C'était un jour de célébration et d'amitié, et je suis heureuse d'avoir pu le partager avec elle.\"},\n",
       "  {'person': {'name': 'Julie',\n",
       "    'relationship': 'Belle-fille de Monique',\n",
       "    'age': 45,\n",
       "    'occupation': 'Infirmière',\n",
       "    'hobbies': [],\n",
       "    'description': 'Une femme douce et attentionnée, très proche de sa belle-mère.'},\n",
       "   'place': ['Église Saint-Pierre', 'Jardin des Roses'],\n",
       "   'emotion': ['Émotion', 'Tendresse', 'Reconnaissance'],\n",
       "   'description': \"Le mariage de Thibault était un moment très émouvant. Monique était si belle, ses yeux brillaient de fierté. Je me souviens de l'avoir vue essuyer une larme pendant la cérémonie. Plus tard, elle m'a confié combien elle était heureuse de voir son petit-fils si épanoui. Ce jour-là, j'ai ressenti une profonde tendresse pour Monique et sa famille.\"},\n",
       "  {'person': {'name': 'Pierre',\n",
       "    'relationship': 'Ami de longue date de Monique',\n",
       "    'age': 77,\n",
       "    'occupation': 'Retraité',\n",
       "    'hobbies': [],\n",
       "    'description': 'Un homme calme et réfléchi, très attaché aux valeurs familiales.'},\n",
       "   'place': ['Salle de Réception des Lilas'],\n",
       "   'emotion': ['Joie', 'Fierté', 'Sérénité'],\n",
       "   'description': \"Le mariage de Thibault était un jour de grande joie. Monique était resplendissante, et son bonheur était contagieux. Je me souviens de l'avoir vue entourée de ses petits-enfants, riant et partageant des moments de complicité. C'était beau de voir notre famille réunie et heureuse.\"},\n",
       "  {'person': {'name': 'Anne',\n",
       "    'relationship': 'Cousine de Monique',\n",
       "    'age': 71,\n",
       "    'occupation': 'Retraitée',\n",
       "    'hobbies': [],\n",
       "    'description': 'Une femme élégante et raffinée, toujours prête à soutenir ses amis.'},\n",
       "   'place': ['Jardin des Roses'],\n",
       "   'emotion': ['Bonheur', 'Nostalgie', 'Amitié'],\n",
       "   'description': \"Le mariage de Thibault était un moment merveilleux. Monique était si heureuse, et son bonheur faisait plaisir à voir. Nous avons dansé et ri ensemble, évoquant nos souvenirs communs. C'était un jour de célébration et d'amitié, et je suis reconnaissante d'avoir pu le partager avec elle.\"},\n",
       "  {'person': {'name': 'François',\n",
       "    'relationship': 'Beau-frère de Monique',\n",
       "    'age': 79,\n",
       "    'occupation': 'Retraité',\n",
       "    'hobbies': [],\n",
       "    'description': \"Un homme jovial et plein d'humour, toujours prêt à raconter des histoires.\"},\n",
       "   'place': ['Église Saint-Pierre', 'Jardin des Roses'],\n",
       "   'emotion': ['Joie', 'Fierté', 'Complicité'],\n",
       "   'description': \"Le mariage de Thibault était un jour mémorable. Monique était si fière et heureuse. Je me souviens de l'avoir vue rire aux éclats avec ses petits-enfants, partageant des moments de complicité. Sa joie de vivre était contagieuse, et ce jour restera gravé dans ma mémoire.\"},\n",
       "  {'person': {'name': 'Catherine',\n",
       "    'relationship': \"Amie d'enfance de Monique\",\n",
       "    'age': 76,\n",
       "    'occupation': 'Retraitée',\n",
       "    'hobbies': [],\n",
       "    'description': \"Une femme douce et bienveillante, toujours à l'écoute.\"},\n",
       "   'place': ['Salle de Réception des Lilas'],\n",
       "   'emotion': ['Émotion', 'Tendresse', 'Amitié'],\n",
       "   'description': \"Le mariage de Thibault était un moment très émouvant. Monique était si belle, ses yeux brillaient de fierté. Je me souviens de l'avoir vue essuyer une larme pendant la cérémonie. Plus tard, elle m'a confié combien elle était heureuse de voir son petit-fils si épanoui. Ce jour-là, j'ai ressenti une profonde tendresse pour Monique et sa famille.\"},\n",
       "  {'person': {'name': 'Daniel',\n",
       "    'relationship': 'Cousin de Monique',\n",
       "    'age': 73,\n",
       "    'occupation': 'Retraité',\n",
       "    'hobbies': [],\n",
       "    'description': 'Un homme calme et réfléchi, très attaché aux valeurs familiales.'},\n",
       "   'place': ['Jardin des Roses'],\n",
       "   'emotion': ['Joie', 'Fierté', 'Sérénité'],\n",
       "   'description': \"Le mariage de Thibault était un jour de grande joie. Monique était resplendissante, et son bonheur était contagieux. Je me souviens de l'avoir vue entourée de ses petits-enfants, riant et partageant des moments de complicité. C'était beau de voir notre famille réunie et heureuse.\"}]}"
      ]
     },
     "execution_count": 11,
     "metadata": {},
     "output_type": "execute_result"
    }
   ],
   "source": [
    "event_memories.model_dump()"
   ]
  },
  {
   "cell_type": "code",
   "execution_count": 12,
   "metadata": {},
   "outputs": [],
   "source": [
    "with open(\"event_memories.json\", \"w\", encoding=\"utf-8\") as file:\n",
    "    file.write(event_memories.model_dump_json(indent=2))"
   ]
  },
  {
   "cell_type": "markdown",
   "metadata": {},
   "source": [
    "# Synthèse de l'histoire"
   ]
  },
  {
   "cell_type": "code",
   "execution_count": 13,
   "metadata": {},
   "outputs": [],
   "source": [
    "with open(\"event_memories.json\", \"r\", encoding=\"utf-8\") as file:\n",
    "    event_memories = json.load(file)"
   ]
  },
  {
   "cell_type": "code",
   "execution_count": 10,
   "metadata": {},
   "outputs": [
    {
     "data": {
      "text/plain": [
       "DayMemory(title='Les vacances à Rome', summary=\"Monique, te souviens-tu de nos vacances à Rome ? La ville éternelle nous a accueillis avec sa chaleur et ses merveilles. Nous avons flâné dans les ruelles pavées, émerveillés par l'histoire qui se dévoilait à chaque coin de rue. Le Colisée, majestueux sous le soleil, t'a particulièrement marquée. Tu nous racontais des anecdotes sur les gladiateurs comme si tu y étais. La Fontaine de Trevi, avec ses eaux scintillantes, a vu nos vœux les plus chers. Et que dire de la Piazza Navona, où tu riais aux éclats avec les artistes de rue ? Un mime t'a même invitée à danser, c'était si drôle et léger. Rome, c'était aussi nos soirées à Trastevere, à déguster des plats typiques et à écouter de la musique italienne. Tu chantais et riais comme si tu avais 20 ans. Ces moments de complicité et de joie resteront à jamais gravés dans nos cœurs. Rome, c'était notre aventure, notre bonheur partagé.\")"
      ]
     },
     "execution_count": 10,
     "metadata": {},
     "output_type": "execute_result"
    }
   ],
   "source": [
    "day_memory"
   ]
  },
  {
   "cell_type": "code",
   "execution_count": 11,
   "metadata": {},
   "outputs": [
    {
     "data": {
      "text/markdown": [
       "Monique, te souviens-tu de nos vacances à Rome ? La ville éternelle nous a accueillis avec sa chaleur et ses merveilles. Nous avons flâné dans les ruelles pavées, émerveillés par l'histoire qui se dévoilait à chaque coin de rue. Le Colisée, majestueux sous le soleil, t'a particulièrement marquée. Tu nous racontais des anecdotes sur les gladiateurs comme si tu y étais. La Fontaine de Trevi, avec ses eaux scintillantes, a vu nos vœux les plus chers. Et que dire de la Piazza Navona, où tu riais aux éclats avec les artistes de rue ? Un mime t'a même invitée à danser, c'était si drôle et léger. Rome, c'était aussi nos soirées à Trastevere, à déguster des plats typiques et à écouter de la musique italienne. Tu chantais et riais comme si tu avais 20 ans. Ces moments de complicité et de joie resteront à jamais gravés dans nos cœurs. Rome, c'était notre aventure, notre bonheur partagé."
      ],
      "text/plain": [
       "<IPython.core.display.Markdown object>"
      ]
     },
     "metadata": {},
     "output_type": "display_data"
    }
   ],
   "source": [
    "display(Markdown(day_memory.summary))"
   ]
  },
  {
   "cell_type": "code",
   "execution_count": 12,
   "metadata": {},
   "outputs": [
    {
     "name": "stdout",
     "output_type": "stream",
     "text": [
      "Audio saved to output.mp3\n"
     ]
    }
   ],
   "source": [
    "\n",
    "# Initialize ElevenLabs client with your API key\n",
    "api_key = os.getenv(\"ELEVENLABS_API_KEY\")\n",
    "client = ElevenLabs(api_key=api_key)\n",
    "text = day_memory.summary\n",
    "voice_id = \"sSSnx1yBXjhBo6gzmfyI\"\n",
    "\n",
    "# Generate audio from text using the specified voice ID\n",
    "audio = client.generate(\n",
    "    text=text,\n",
    "    voice=voice_id,\n",
    "    model=\"eleven_multilingual_v2\",\n",
    "    output_format=\"mp3_44100_128\",\n",
    "\n",
    ")\n",
    "\n",
    "output_path = \"output.mp3\"\n",
    "\n",
    "# Save the generated audio to a file\n",
    "save(audio, output_path)\n",
    "print(f\"Audio saved to {output_path}\")"
   ]
  },
  {
   "cell_type": "code",
   "execution_count": null,
   "metadata": {},
   "outputs": [],
   "source": []
  }
 ],
 "metadata": {
  "kernelspec": {
   "display_name": ".venv",
   "language": "python",
   "name": "python3"
  },
  "language_info": {
   "codemirror_mode": {
    "name": "ipython",
    "version": 3
   },
   "file_extension": ".py",
   "mimetype": "text/x-python",
   "name": "python",
   "nbconvert_exporter": "python",
   "pygments_lexer": "ipython3",
   "version": "3.11.2"
  }
 },
 "nbformat": 4,
 "nbformat_minor": 2
}
