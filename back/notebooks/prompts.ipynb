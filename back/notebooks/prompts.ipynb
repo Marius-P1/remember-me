{
 "cells": [
  {
   "cell_type": "code",
   "execution_count": 2,
   "metadata": {},
   "outputs": [
    {
     "data": {
      "text/plain": [
       "True"
      ]
     },
     "execution_count": 2,
     "metadata": {},
     "output_type": "execute_result"
    }
   ],
   "source": [
    "from dotenv import load_dotenv, find_dotenv\n",
    "load_dotenv(find_dotenv())"
   ]
  },
  {
   "cell_type": "code",
   "execution_count": 3,
   "metadata": {},
   "outputs": [],
   "source": [
    "from langchain.chat_models import init_chat_model\n",
    "from langchain_core.messages import HumanMessage, SystemMessage\n",
    "from langchain_core.prompts import ChatPromptTemplate\n",
    "from langchain_mistralai import ChatMistralAI\n",
    "from typing import List\n",
    "from enum import Enum\n",
    "\n",
    "from pydantic import BaseModel, Field\n",
    "import json\n",
    "from typing import List"
   ]
  },
  {
   "cell_type": "code",
   "execution_count": 3,
   "metadata": {},
   "outputs": [],
   "source": [
    "#model = init_chat_model(\"ministral-8b-latest\", model_provider=\"mistralai\", temperature=0)\n",
    "model = init_chat_model(\"mistral-large-latest\", model_provider=\"mistralai\", temperature=0)"
   ]
  },
  {
   "cell_type": "code",
   "execution_count": 4,
   "metadata": {},
   "outputs": [],
   "source": [
    "class Period(str, Enum):\n",
    "    \"\"\"Enum for periods of life.\"\"\"\n",
    "    CHILDHOOD = \"childhood\"\n",
    "    ADOLESCENCE = \"adolescence\"\n",
    "    YOUNG_ADULTHOOD = \"young_adulthood\"\n",
    "    ADULTHOOD = \"adulthood\"\n",
    "    OLD_AGE = \"old_age\"\n",
    "\n",
    "class Person(BaseModel):\n",
    "    id: int = Field(description=\"The unique identifier for the person\")\n",
    "    name: str = Field(description=\"The name of the person\")\n",
    "    relationship: str = Field(description=\"The relationship of the person to the user\")\n",
    "    age: int = Field(description=\"The age of the person\")\n",
    "    occupation: str = Field(description=\"The occupation of the person\")\n",
    "    hobbies: List[str] = Field(default_factory=list, description=\"The hobbies of the person\")\n",
    "    description: str = Field(description=\"A description of the person\")\n",
    "\n",
    "    def __str__(self):\n",
    "        return json.dumps(self.dict(), indent=2)\n",
    "\n",
    "class Memory(BaseModel):\n",
    "    people: List[int] = Field(min_items=1, decription=\"A list of IDs of people involved in the memory\")\n",
    "    place: List[str] = Field(min_items=1, default_factory=list, description=\"A list of places involved in the memory\")\n",
    "    period: List[str] = Field(min_items=1, default_factory=list)\n",
    "    emotion: List[str] = Field(min_items=1, default_factory=list)\n",
    "    description: str = Field(description=\"A description of the memory\")\n",
    "\n",
    "    def __str__(self):\n",
    "        return json.dumps(self.dict(), indent=2)\n",
    "    \n",
    "class LifeSummary(BaseModel):\n",
    "    name: str = Field(description=\"The name of the user\")\n",
    "    age: int = Field(description=\"The age of the user\")\n",
    "    occupation: str = Field(description=\"The occupation of the user\")\n",
    "    acquaintances: List[Person] = Field(min_items=5, default_factory=list, description=\"A list of acquaintances of the user (friend, colleague,  family)\")\n",
    "    memories: List[Memory] = Field(default_factory=list)\n",
    "\n",
    "    def __str__(self):\n",
    "        return json.dumps(self.dict(), indent=2)"
   ]
  },
  {
   "cell_type": "code",
   "execution_count": 6,
   "metadata": {},
   "outputs": [],
   "source": [
    "prompt_template = ChatPromptTemplate.from_messages(\n",
    "    [\n",
    "        SystemMessage(\"Tu est un chatbot qui génère des données de synthèse sur les souvenirs sur toute la vie d'une personne agée.\"),\n",
    "        (\"user\", \"\"\"Invente cinq souvenirs. pour une personne dont voici la description :\n",
    "            Nom : {name}\n",
    "            Age : {age}\n",
    "            Profession : {occupation} \n",
    "         Rédige les souvenirs à la première personne,\n",
    "         en utilisant le vocabulaire et les émotions d'une personne âgée.\n",
    "         Chaque souvenir doit être spécifique et détaillé, en incluant la référence (id) des personnes impliquées, les lieux, la période de la vie et les émotions ressenties.\"\"\"),\n",
    "    ]\n",
    ")\n",
    "chain = prompt_template | model.with_structured_output(LifeSummary)"
   ]
  },
  {
   "cell_type": "code",
   "execution_count": null,
   "metadata": {},
   "outputs": [],
   "source": [
    "life_summary = chain.invoke({\"name\": \"Monique\", \"age\": \"75\", \"occupation\": \"Ancienne Assistante sociale\"})"
   ]
  },
  {
   "cell_type": "code",
   "execution_count": 10,
   "metadata": {},
   "outputs": [
    {
     "data": {
      "text/plain": [
       "{'name': 'Monique',\n",
       " 'age': 75,\n",
       " 'occupation': 'Ancienne Assistante sociale',\n",
       " 'acquaintances': [{'id': 1,\n",
       "   'name': 'Jean',\n",
       "   'relationship': 'Mari',\n",
       "   'age': 78,\n",
       "   'occupation': 'Retraité',\n",
       "   'hobbies': ['Jardinage', 'Lecture'],\n",
       "   'description': 'Mon mari depuis 50 ans, un homme patient et aimant.'},\n",
       "  {'id': 2,\n",
       "   'name': 'Sophie',\n",
       "   'relationship': 'Fille',\n",
       "   'age': 45,\n",
       "   'occupation': 'Professeur',\n",
       "   'hobbies': ['Peinture', 'Randonnée'],\n",
       "   'description': 'Ma fille aînée, une femme indépendante et passionnée.'},\n",
       "  {'id': 3,\n",
       "   'name': 'Pierre',\n",
       "   'relationship': 'Fils',\n",
       "   'age': 42,\n",
       "   'occupation': 'Ingénieur',\n",
       "   'hobbies': ['Football', 'Cuisine'],\n",
       "   'description': 'Mon fils cadet, un homme dévoué et toujours prêt à aider.'},\n",
       "  {'id': 4,\n",
       "   'name': 'Marie',\n",
       "   'relationship': \"Amie d'enfance\",\n",
       "   'age': 75,\n",
       "   'occupation': 'Retraitée',\n",
       "   'hobbies': ['Tricot', 'Voyages'],\n",
       "   'description': \"Mon amie d'enfance, toujours là pour moi dans les bons et les mauvais moments.\"},\n",
       "  {'id': 5,\n",
       "   'name': 'Paul',\n",
       "   'relationship': 'Collègue',\n",
       "   'age': 72,\n",
       "   'occupation': 'Retraité',\n",
       "   'hobbies': ['Pêche', 'Bricolage'],\n",
       "   'description': 'Mon ancien collègue, un homme de confiance et un ami fidèle.'}],\n",
       " 'memories': [{'people': [1],\n",
       "   'place': ['Paris'],\n",
       "   'period': ['Années 60'],\n",
       "   'emotion': ['Joie', 'Amour'],\n",
       "   'description': \"Je me souviens de notre première rencontre avec Jean à Paris dans les années 60. C'était un jour ensoleillé, et nous nous sommes croisés dans un café près de la Seine. Ses yeux pétillaient de joie et d'amour, et depuis ce jour, nous ne nous sommes plus quittés.\"},\n",
       "  {'people': [2, 3],\n",
       "   'place': ['Maison de campagne'],\n",
       "   'period': ['Années 80'],\n",
       "   'emotion': ['Bonheur', 'Fierté'],\n",
       "   'description': 'Les étés passés dans notre maison de campagne avec Sophie et Pierre étaient magiques. Le rire des enfants résonnait dans les champs, et je ressentais un bonheur immense et une grande fierté de voir ma famille unie et heureuse.'},\n",
       "  {'people': [4],\n",
       "   'place': ['École primaire'],\n",
       "   'period': ['Années 50'],\n",
       "   'emotion': ['Nostalgie', 'Amitié'],\n",
       "   'description': \"Marie et moi étions inséparables à l'école primaire. Nous partagions tout, nos joies, nos peines, et nos rêves. Ces moments de complicité restent gravés dans ma mémoire avec une douce nostalgie.\"},\n",
       "  {'people': [5],\n",
       "   'place': ['Bureau'],\n",
       "   'period': ['Années 70'],\n",
       "   'emotion': ['Satisfaction', 'Camraderie'],\n",
       "   'description': 'Travailler avec Paul au bureau dans les années 70 était une expérience enrichissante. Nous formions une équipe soudée, et chaque projet mené à bien nous apportait une grande satisfaction et un sentiment de camaraderie.'},\n",
       "  {'people': [1, 2, 3, 4, 5],\n",
       "   'place': ['Maison de famille'],\n",
       "   'period': ['Années 90'],\n",
       "   'emotion': ['Gratitude', 'Sérénité'],\n",
       "   'description': 'Les réunions de famille dans notre maison durant les années 90 étaient des moments précieux. Entourée de Jean, Sophie, Pierre, Marie et Paul, je ressentais une profonde gratitude et une sérénité apaisante. Ces instants de partage et de complicité sont des trésors que je chéris.'}]}"
      ]
     },
     "execution_count": 10,
     "metadata": {},
     "output_type": "execute_result"
    }
   ],
   "source": [
    "life_summary.model_dump()"
   ]
  },
  {
   "cell_type": "code",
   "execution_count": null,
   "metadata": {},
   "outputs": [],
   "source": []
  },
  {
   "cell_type": "code",
   "execution_count": null,
   "metadata": {},
   "outputs": [],
   "source": []
  }
 ],
 "metadata": {
  "kernelspec": {
   "display_name": ".venv",
   "language": "python",
   "name": "python3"
  },
  "language_info": {
   "codemirror_mode": {
    "name": "ipython",
    "version": 3
   },
   "file_extension": ".py",
   "mimetype": "text/x-python",
   "name": "python",
   "nbconvert_exporter": "python",
   "pygments_lexer": "ipython3",
   "version": "3.11.2"
  }
 },
 "nbformat": 4,
 "nbformat_minor": 2
}
