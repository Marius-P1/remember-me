{
 "cells": [
  {
   "cell_type": "code",
   "execution_count": 3,
   "metadata": {},
   "outputs": [
    {
     "data": {
      "text/plain": [
       "True"
      ]
     },
     "execution_count": 3,
     "metadata": {},
     "output_type": "execute_result"
    }
   ],
   "source": [
    "from dotenv import load_dotenv, find_dotenv\n",
    "load_dotenv(find_dotenv())"
   ]
  },
  {
   "cell_type": "code",
   "execution_count": 22,
   "metadata": {},
   "outputs": [],
   "source": [
    "from langchain.chat_models import init_chat_model\n",
    "from langchain_core.messages import HumanMessage, SystemMessage\n",
    "from langchain_core.prompts import ChatPromptTemplate\n",
    "from IPython.display import display, Markdown\n",
    "from typing import List\n",
    "from enum import Enum\n",
    "\n",
    "from pydantic import BaseModel, Field\n",
    "import json\n",
    "from typing import List"
   ]
  },
  {
   "cell_type": "code",
   "execution_count": 23,
   "metadata": {},
   "outputs": [],
   "source": [
    "#model = init_chat_model(\"ministral-8b-latest\", model_provider=\"mistralai\", temperature=0)\n",
    "model = init_chat_model(\"mistral-large-latest\", model_provider=\"mistralai\", temperature=0)"
   ]
  },
  {
   "cell_type": "code",
   "execution_count": 24,
   "metadata": {},
   "outputs": [],
   "source": [
    "class Period(str, Enum):\n",
    "    \"\"\"Enum for periods of life.\"\"\"\n",
    "    CHILDHOOD = \"childhood\"\n",
    "    ADOLESCENCE = \"adolescence\"\n",
    "    YOUNG_ADULTHOOD = \"young_adulthood\"\n",
    "    ADULTHOOD = \"adulthood\"\n",
    "    OLD_AGE = \"old_age\"\n",
    "\n",
    "class Person(BaseModel):\n",
    "    id: int = Field(description=\"The unique identifier for the person\")\n",
    "    name: str = Field(description=\"The name of the person\")\n",
    "    relationship: str = Field(description=\"The relationship of the person to the user\")\n",
    "    age: int = Field(description=\"The age of the person\")\n",
    "    occupation: str = Field(description=\"The occupation of the person\")\n",
    "    hobbies: List[str] = Field(default_factory=list, description=\"The hobbies of the person\")\n",
    "    description: str = Field(description=\"A description of the person\")\n",
    "\n",
    "    def __str__(self):\n",
    "        return json.dumps(self.dict(), indent=2)\n",
    "\n",
    "class Memory(BaseModel):\n",
    "    people: List[int] = Field(min_items=1, decription=\"A list of IDs of people involved in the memory\")\n",
    "    place: List[str] = Field(min_items=1, default_factory=list, description=\"A list of places involved in the memory\")\n",
    "    period: List[str] = Field(min_items=1, default_factory=list)\n",
    "    emotion: List[str] = Field(min_items=1, default_factory=list)\n",
    "    description: str = Field(description=\"A description of the memory\")\n",
    "\n",
    "    def __str__(self):\n",
    "        return json.dumps(self.dict(), indent=2)\n",
    "    \n",
    "class LifeSummary(BaseModel):\n",
    "    name: str = Field(description=\"The name of the user\")\n",
    "    age: int = Field(description=\"The age of the user\")\n",
    "    occupation: str = Field(description=\"The occupation of the user\")\n",
    "    acquaintances: List[Person] = Field(min_items=5, default_factory=list, description=\"A list of acquaintances of the user (friend, colleague,  family)\")\n",
    "    memories: List[Memory] = Field(default_factory=list)\n",
    "\n",
    "    def __str__(self):\n",
    "        return json.dumps(self.dict(), indent=2)"
   ]
  },
  {
   "cell_type": "markdown",
   "metadata": {},
   "source": [
    "# Génération des souvenirs pour la vie"
   ]
  },
  {
   "cell_type": "code",
   "execution_count": 25,
   "metadata": {},
   "outputs": [],
   "source": [
    "prompt_template = ChatPromptTemplate.from_messages(\n",
    "    [\n",
    "        SystemMessage(\"Tu est un chatbot qui génère des données de synthèse sur les souvenirs sur toute la vie d'une personne agée.\"),\n",
    "        (\"user\", \"\"\"Invente cinq souvenirs. pour une personne dont voici la description :\n",
    "            Nom : {name}\n",
    "            Age : {age}\n",
    "            Profession : {occupation} \n",
    "         Rédige les souvenirs à la première personne,\n",
    "         en utilisant le vocabulaire et les émotions d'une personne âgée.\n",
    "         Chaque souvenir doit être spécifique et détaillé, en incluant la référence (id) des personnes impliquées, les lieux, la période de la vie et les émotions ressenties.\"\"\"),\n",
    "    ]\n",
    ")\n",
    "chain = prompt_template | model.with_structured_output(LifeSummary)"
   ]
  },
  {
   "cell_type": "code",
   "execution_count": null,
   "metadata": {},
   "outputs": [],
   "source": [
    "life_summary = chain.invoke({\"name\": \"Monique\", \"age\": \"75\", \"occupation\": \"Ancienne Assistante sociale\"})"
   ]
  },
  {
   "cell_type": "code",
   "execution_count": 10,
   "metadata": {},
   "outputs": [
    {
     "data": {
      "text/plain": [
       "{'name': 'Monique',\n",
       " 'age': 75,\n",
       " 'occupation': 'Ancienne Assistante sociale',\n",
       " 'acquaintances': [{'id': 1,\n",
       "   'name': 'Jean',\n",
       "   'relationship': 'Mari',\n",
       "   'age': 78,\n",
       "   'occupation': 'Retraité',\n",
       "   'hobbies': ['Jardinage', 'Lecture'],\n",
       "   'description': 'Mon mari depuis 50 ans, un homme patient et aimant.'},\n",
       "  {'id': 2,\n",
       "   'name': 'Sophie',\n",
       "   'relationship': 'Fille',\n",
       "   'age': 45,\n",
       "   'occupation': 'Professeur',\n",
       "   'hobbies': ['Peinture', 'Randonnée'],\n",
       "   'description': 'Ma fille aînée, une femme indépendante et passionnée.'},\n",
       "  {'id': 3,\n",
       "   'name': 'Pierre',\n",
       "   'relationship': 'Fils',\n",
       "   'age': 42,\n",
       "   'occupation': 'Ingénieur',\n",
       "   'hobbies': ['Football', 'Cuisine'],\n",
       "   'description': 'Mon fils cadet, un homme dévoué et toujours prêt à aider.'},\n",
       "  {'id': 4,\n",
       "   'name': 'Marie',\n",
       "   'relationship': \"Amie d'enfance\",\n",
       "   'age': 75,\n",
       "   'occupation': 'Retraitée',\n",
       "   'hobbies': ['Tricot', 'Voyages'],\n",
       "   'description': \"Mon amie d'enfance, toujours là pour moi dans les bons et les mauvais moments.\"},\n",
       "  {'id': 5,\n",
       "   'name': 'Paul',\n",
       "   'relationship': 'Collègue',\n",
       "   'age': 72,\n",
       "   'occupation': 'Retraité',\n",
       "   'hobbies': ['Pêche', 'Bricolage'],\n",
       "   'description': 'Mon ancien collègue, un homme de confiance et un ami fidèle.'}],\n",
       " 'memories': [{'people': [1],\n",
       "   'place': ['Paris'],\n",
       "   'period': ['Années 60'],\n",
       "   'emotion': ['Joie', 'Amour'],\n",
       "   'description': \"Je me souviens de notre première rencontre avec Jean à Paris dans les années 60. C'était un jour ensoleillé, et nous nous sommes croisés dans un café près de la Seine. Ses yeux pétillaient de joie et d'amour, et depuis ce jour, nous ne nous sommes plus quittés.\"},\n",
       "  {'people': [2, 3],\n",
       "   'place': ['Maison de campagne'],\n",
       "   'period': ['Années 80'],\n",
       "   'emotion': ['Bonheur', 'Fierté'],\n",
       "   'description': 'Les étés passés dans notre maison de campagne avec Sophie et Pierre étaient magiques. Le rire des enfants résonnait dans les champs, et je ressentais un bonheur immense et une grande fierté de voir ma famille unie et heureuse.'},\n",
       "  {'people': [4],\n",
       "   'place': ['École primaire'],\n",
       "   'period': ['Années 50'],\n",
       "   'emotion': ['Nostalgie', 'Amitié'],\n",
       "   'description': \"Marie et moi étions inséparables à l'école primaire. Nous partagions tout, nos joies, nos peines, et nos rêves. Ces moments de complicité restent gravés dans ma mémoire avec une douce nostalgie.\"},\n",
       "  {'people': [5],\n",
       "   'place': ['Bureau'],\n",
       "   'period': ['Années 70'],\n",
       "   'emotion': ['Satisfaction', 'Camraderie'],\n",
       "   'description': 'Travailler avec Paul au bureau dans les années 70 était une expérience enrichissante. Nous formions une équipe soudée, et chaque projet mené à bien nous apportait une grande satisfaction et un sentiment de camaraderie.'},\n",
       "  {'people': [1, 2, 3, 4, 5],\n",
       "   'place': ['Maison de famille'],\n",
       "   'period': ['Années 90'],\n",
       "   'emotion': ['Gratitude', 'Sérénité'],\n",
       "   'description': 'Les réunions de famille dans notre maison durant les années 90 étaient des moments précieux. Entourée de Jean, Sophie, Pierre, Marie et Paul, je ressentais une profonde gratitude et une sérénité apaisante. Ces instants de partage et de complicité sont des trésors que je chéris.'}]}"
      ]
     },
     "execution_count": 10,
     "metadata": {},
     "output_type": "execute_result"
    }
   ],
   "source": [
    "life_summary.model_dump()"
   ]
  },
  {
   "cell_type": "markdown",
   "metadata": {},
   "source": [
    "# Génération de souvenirs pour le mariage"
   ]
  },
  {
   "cell_type": "code",
   "execution_count": 9,
   "metadata": {},
   "outputs": [],
   "source": [
    "class Person(BaseModel):\n",
    "    id: int = Field(description=\"The unique identifier for the person\")\n",
    "    name: str = Field(description=\"The name of the person\")\n",
    "    relationship: str = Field(description=\"The relationship of the person to the user\")\n",
    "    age: int = Field(description=\"The age of the person\")\n",
    "    occupation: str = Field(description=\"The occupation of the person\")\n",
    "    hobbies: List[str] = Field(default_factory=list, description=\"The hobbies of the person\")\n",
    "    description: str = Field(description=\"A description of the person\")\n",
    "\n",
    "    def __str__(self):\n",
    "        return json.dumps(self.dict(), indent=2)\n",
    "\n",
    "class Memory(BaseModel):\n",
    "    person: Person = Field(decription=\"The writer of the memory\")\n",
    "    place: List[str] = Field(min_items=1, default_factory=list, description=\"A list of places involved in the memory\")\n",
    "    emotion: List[str] = Field(min_items=1, default_factory=list)\n",
    "    description: str = Field(description=\"A description of the memory\")\n",
    "\n",
    "    def __str__(self):\n",
    "        return json.dumps(self.dict(), indent=2)\n",
    "    \n",
    "class LifeSummary(BaseModel):\n",
    "    name: str = Field(description=\"The name of the user\")\n",
    "    age: int = Field(description=\"The age of the user\")\n",
    "    occupation: str = Field(description=\"The occupation of the user\")\n",
    "    memories: List[Memory] = Field(default_factory=list)\n",
    "\n",
    "    def __str__(self):\n",
    "        return json.dumps(self.dict(), indent=2)"
   ]
  },
  {
   "cell_type": "code",
   "execution_count": 10,
   "metadata": {},
   "outputs": [],
   "source": [
    "prompt_template = ChatPromptTemplate.from_messages(\n",
    "    [\n",
    "        SystemMessage(\"\"\"Tu est un chatbot qui génère des données de synthèse. Par rapport à un évènement, avec différentes perspectives de différentes personnes.\"\"\"),\n",
    "        (\"user\", \"\"\"L'évènement est le mariage de Thibault, le petit fils de Monique.\n",
    "        Voici la description de Monique :\n",
    "            Nom : {name}\n",
    "            Age : {age}\n",
    "            Profession : {occupation} \n",
    "        Invente 15 souvenirs écrits par des proches de Monique ayant participé au marriage. Rédige les souvenirs à la première personne,\n",
    "        Chaque souvenir doit être spécifique et détaillées et en intégrant les émotions ressenties.\"\"\"),\n",
    "    ]\n",
    ")\n",
    "chain = prompt_template | model.with_structured_output(LifeSummary)"
   ]
  },
  {
   "cell_type": "code",
   "execution_count": 11,
   "metadata": {},
   "outputs": [],
   "source": [
    "life_summary = chain.invoke({\"name\": \"Monique\", \"age\": \"75\", \"occupation\": \"Ancienne Assistante sociale\"})"
   ]
  },
  {
   "cell_type": "code",
   "execution_count": 12,
   "metadata": {},
   "outputs": [
    {
     "data": {
      "text/plain": [
       "{'name': 'Monique',\n",
       " 'age': 75,\n",
       " 'occupation': 'Ancienne Assistante sociale',\n",
       " 'memories': [{'person': {'id': 1,\n",
       "    'name': 'Marie',\n",
       "    'relationship': \"Amie d'enfance\",\n",
       "    'age': 74,\n",
       "    'occupation': 'Retraitée',\n",
       "    'hobbies': ['Jardinage', 'Lecture'],\n",
       "    'description': \"Marie est mon amie d'enfance, nous avons grandi ensemble et partagé de nombreux moments de vie.\"},\n",
       "   'place': ['Église du village', 'Salle de réception'],\n",
       "   'emotion': ['Joie', 'Nostalgie'],\n",
       "   'description': \"Le mariage de Thibault était magnifique. Voir Monique si heureuse m'a rappelé tous les moments que nous avons partagés. L'église du village était décorée avec goût, et la cérémonie était très émouvante. Pendant la réception, nous avons dansé et ri comme si nous étions encore jeunes. C'était un jour inoubliable.\"},\n",
       "  {'person': {'id': 2,\n",
       "    'name': 'Jean',\n",
       "    'relationship': 'Frère',\n",
       "    'age': 72,\n",
       "    'occupation': 'Retraité',\n",
       "    'hobbies': ['Pêche', 'Randonnée'],\n",
       "    'description': 'Jean est le frère de Monique, ils ont toujours été très proches et partagent de nombreux souvenirs de famille.'},\n",
       "   'place': ['Mairie', 'Jardin de la réception'],\n",
       "   'emotion': ['Fierté', 'Émotion'],\n",
       "   'description': \"Assister au mariage de Thibault était un moment très émouvant. Voir notre famille réunie pour cet événement spécial m'a rempli de fierté. La cérémonie à la mairie était solennelle, et le jardin de la réception était magnifique. J'ai ressenti beaucoup d'émotion en voyant Monique si heureuse et entourée de ses proches.\"},\n",
       "  {'person': {'id': 3,\n",
       "    'name': 'Sophie',\n",
       "    'relationship': 'Fille',\n",
       "    'age': 50,\n",
       "    'occupation': 'Professeure',\n",
       "    'hobbies': ['Yoga', 'Cuisine'],\n",
       "    'description': 'Sophie est la fille de Monique, elles partagent une relation très proche et complice.'},\n",
       "   'place': ['Église', 'Salle de réception'],\n",
       "   'emotion': ['Bonheur', 'Reconnaissance'],\n",
       "   'description': \"Le mariage de Thibault était un jour rempli de bonheur. Voir ma mère si heureuse et entourée de ses proches m'a remplie de gratitude. La cérémonie à l'église était très émouvante, et la réception était joyeuse et festive. J'ai ressenti beaucoup de reconnaissance pour tous les moments partagés en famille.\"},\n",
       "  {'person': {'id': 4,\n",
       "    'name': 'Pierre',\n",
       "    'relationship': 'Cousin',\n",
       "    'age': 68,\n",
       "    'occupation': 'Ingénieur',\n",
       "    'hobbies': ['Vélo', 'Photographie'],\n",
       "    'description': 'Pierre est le cousin de Monique, ils ont partagé de nombreux moments de famille et sont très proches.'},\n",
       "   'place': ['Église', 'Jardin de la réception'],\n",
       "   'emotion': ['Joie', 'Nostalgie'],\n",
       "   'description': \"Le mariage de Thibault était un moment de grande joie. Voir Monique si heureuse m'a rappelé tous les bons moments passés en famille. La cérémonie à l'église était très émouvante, et le jardin de la réception était magnifique. J'ai ressenti beaucoup de nostalgie en repensant à tous les souvenirs partagés.\"},\n",
       "  {'person': {'id': 5,\n",
       "    'name': 'Claire',\n",
       "    'relationship': 'Amie',\n",
       "    'age': 73,\n",
       "    'occupation': 'Retraitée',\n",
       "    'hobbies': ['Peinture', 'Voyage'],\n",
       "    'description': 'Claire est une amie proche de Monique, elles partagent de nombreux souvenirs et moments de vie.'},\n",
       "   'place': ['Mairie', 'Salle de réception'],\n",
       "   'emotion': ['Émotion', 'Joie'],\n",
       "   'description': \"Assister au mariage de Thibault était un moment très émouvant. Voir Monique si heureuse et entourée de ses proches m'a remplie de joie. La cérémonie à la mairie était solennelle, et la réception était festive et joyeuse. J'ai ressenti beaucoup d'émotion en partageant ce moment avec elle.\"},\n",
       "  {'person': {'id': 6,\n",
       "    'name': 'Luc',\n",
       "    'relationship': 'Beau-frère',\n",
       "    'age': 70,\n",
       "    'occupation': 'Retraité',\n",
       "    'hobbies': ['Golf', 'Lecture'],\n",
       "    'description': 'Luc est le beau-frère de Monique, ils partagent une relation amicale et complice.'},\n",
       "   'place': ['Église', 'Jardin de la réception'],\n",
       "   'emotion': ['Bonheur', 'Sérénité'],\n",
       "   'description': \"Le mariage de Thibault était un jour rempli de bonheur. Voir Monique si heureuse et entourée de ses proches m'a apporté beaucoup de sérénité. La cérémonie à l'église était très émouvante, et le jardin de la réception était magnifique. J'ai apprécié chaque moment passé en famille.\"},\n",
       "  {'person': {'id': 7,\n",
       "    'name': 'Anne',\n",
       "    'relationship': 'Nièce',\n",
       "    'age': 45,\n",
       "    'occupation': 'Infirmière',\n",
       "    'hobbies': ['Randonnée', 'Cuisine'],\n",
       "    'description': 'Anne est la nièce de Monique, elles partagent une relation proche et affectueuse.'},\n",
       "   'place': ['Mairie', 'Salle de réception'],\n",
       "   'emotion': ['Joie', 'Fierté'],\n",
       "   'description': \"Assister au mariage de Thibault était un moment de grande joie. Voir ma tante Monique si heureuse et entourée de ses proches m'a remplie de fierté. La cérémonie à la mairie était solennelle, et la réception était festive et joyeuse. J'ai ressenti beaucoup d'émotion en partageant ce moment avec elle.\"},\n",
       "  {'person': {'id': 8,\n",
       "    'name': 'Paul',\n",
       "    'relationship': 'Ami',\n",
       "    'age': 76,\n",
       "    'occupation': 'Retraité',\n",
       "    'hobbies': ['Jardinage', 'Pêche'],\n",
       "    'description': 'Paul est un ami proche de Monique, ils partagent de nombreux souvenirs et moments de vie.'},\n",
       "   'place': ['Église', 'Jardin de la réception'],\n",
       "   'emotion': ['Émotion', 'Nostalgie'],\n",
       "   'description': \"Le mariage de Thibault était un moment très émouvant. Voir Monique si heureuse m'a rappelé tous les bons moments passés ensemble. La cérémonie à l'église était très émouvante, et le jardin de la réception était magnifique. J'ai ressenti beaucoup de nostalgie en repensant à tous les souvenirs partagés.\"},\n",
       "  {'person': {'id': 9,\n",
       "    'name': 'Hélène',\n",
       "    'relationship': 'Cousine',\n",
       "    'age': 65,\n",
       "    'occupation': 'Retraitée',\n",
       "    'hobbies': ['Lecture', 'Voyage'],\n",
       "    'description': 'Hélène est la cousine de Monique, elles partagent de nombreux souvenirs de famille et sont très proches.'},\n",
       "   'place': ['Mairie', 'Salle de réception'],\n",
       "   'emotion': ['Joie', 'Émotion'],\n",
       "   'description': \"Assister au mariage de Thibault était un moment de grande joie. Voir Monique si heureuse et entourée de ses proches m'a remplie d'émotion. La cérémonie à la mairie était solennelle, et la réception était festive et joyeuse. J'ai apprécié chaque moment passé en famille.\"},\n",
       "  {'person': {'id': 10,\n",
       "    'name': 'Marc',\n",
       "    'relationship': 'Ami',\n",
       "    'age': 71,\n",
       "    'occupation': 'Retraité',\n",
       "    'hobbies': ['Photographie', 'Randonnée'],\n",
       "    'description': 'Marc est un ami proche de Monique, ils partagent de nombreux souvenirs et moments de vie.'},\n",
       "   'place': ['Église', 'Jardin de la réception'],\n",
       "   'emotion': ['Bonheur', 'Sérénité'],\n",
       "   'description': \"Le mariage de Thibault était un jour rempli de bonheur. Voir Monique si heureuse et entourée de ses proches m'a apporté beaucoup de sérénité. La cérémonie à l'église était très émouvante, et le jardin de la réception était magnifique. J'ai apprécié chaque moment passé en famille.\"},\n",
       "  {'person': {'id': 11,\n",
       "    'name': 'Julie',\n",
       "    'relationship': 'Petite-fille',\n",
       "    'age': 30,\n",
       "    'occupation': 'Designer',\n",
       "    'hobbies': ['Peinture', 'Yoga'],\n",
       "    'description': 'Julie est la petite-fille de Monique, elles partagent une relation très proche et complice.'},\n",
       "   'place': ['Mairie', 'Salle de réception'],\n",
       "   'emotion': ['Joie', 'Reconnaissance'],\n",
       "   'description': \"Assister au mariage de Thibault était un moment de grande joie. Voir ma grand-mère Monique si heureuse et entourée de ses proches m'a remplie de reconnaissance. La cérémonie à la mairie était solennelle, et la réception était festive et joyeuse. J'ai ressenti beaucoup d'émotion en partageant ce moment avec elle.\"},\n",
       "  {'person': {'id': 12,\n",
       "    'name': 'Éric',\n",
       "    'relationship': 'Neveu',\n",
       "    'age': 48,\n",
       "    'occupation': 'Informaticien',\n",
       "    'hobbies': ['Sport', 'Lecture'],\n",
       "    'description': 'Éric est le neveu de Monique, ils partagent une relation amicale et complice.'},\n",
       "   'place': ['Église', 'Jardin de la réception'],\n",
       "   'emotion': ['Émotion', 'Bonheur'],\n",
       "   'description': \"Le mariage de Thibault était un moment très émouvant. Voir ma tante Monique si heureuse et entourée de ses proches m'a rempli de bonheur. La cérémonie à l'église était très émouvante, et le jardin de la réception était magnifique. J'ai apprécié chaque moment passé en famille.\"},\n",
       "  {'person': {'id': 13,\n",
       "    'name': 'Catherine',\n",
       "    'relationship': 'Amie',\n",
       "    'age': 72,\n",
       "    'occupation': 'Retraitée',\n",
       "    'hobbies': ['Cuisine', 'Jardinage'],\n",
       "    'description': 'Catherine est une amie proche de Monique, elles partagent de nombreux souvenirs et moments de vie.'},\n",
       "   'place': ['Mairie', 'Salle de réception'],\n",
       "   'emotion': ['Joie', 'Nostalgie'],\n",
       "   'description': \"Assister au mariage de Thibault était un moment de grande joie. Voir Monique si heureuse m'a rappelé tous les bons moments passés ensemble. La cérémonie à la mairie était solennelle, et la réception était festive et joyeuse. J'ai ressenti beaucoup de nostalgie en repensant à tous les souvenirs partagés.\"},\n",
       "  {'person': {'id': 14,\n",
       "    'name': 'Patrick',\n",
       "    'relationship': 'Ami',\n",
       "    'age': 73,\n",
       "    'occupation': 'Retraité',\n",
       "    'hobbies': ['Pêche', 'Vélo'],\n",
       "    'description': 'Patrick est un ami proche de Monique, ils partagent de nombreux souvenirs et moments de vie.'},\n",
       "   'place': ['Église', 'Jardin de la réception'],\n",
       "   'emotion': ['Bonheur', 'Sérénité'],\n",
       "   'description': \"Le mariage de Thibault était un jour rempli de bonheur. Voir Monique si heureuse et entourée de ses proches m'a apporté beaucoup de sérénité. La cérémonie à l'église était très émouvante, et le jardin de la réception était magnifique. J'ai apprécié chaque moment passé en famille.\"},\n",
       "  {'person': {'id': 15,\n",
       "    'name': 'Isabelle',\n",
       "    'relationship': 'Cousine',\n",
       "    'age': 67,\n",
       "    'occupation': 'Retraitée',\n",
       "    'hobbies': ['Lecture', 'Voyage'],\n",
       "    'description': 'Isabelle est la cousine de Monique, elles partagent de nombreux souvenirs de famille et sont très proches.'},\n",
       "   'place': ['Mairie', 'Salle de réception'],\n",
       "   'emotion': ['Joie', 'Émotion'],\n",
       "   'description': \"Assister au mariage de Thibault était un moment de grande joie. Voir Monique si heureuse et entourée de ses proches m'a remplie d'émotion. La cérémonie à la mairie était solennelle, et la réception était festive et joyeuse. J'ai apprécié chaque moment passé en famille.\"}]}"
      ]
     },
     "execution_count": 12,
     "metadata": {},
     "output_type": "execute_result"
    }
   ],
   "source": [
    "life_summary.model_dump()"
   ]
  },
  {
   "cell_type": "code",
   "execution_count": 14,
   "metadata": {},
   "outputs": [],
   "source": [
    "with open(\"life_summary.json\", \"w\", encoding=\"utf-8\") as file:\n",
    "    file.write(life_summary.model_dump_json(indent=2))"
   ]
  },
  {
   "cell_type": "markdown",
   "metadata": {},
   "source": [
    "# Synthèse de l'histoire"
   ]
  },
  {
   "cell_type": "code",
   "execution_count": 15,
   "metadata": {},
   "outputs": [],
   "source": [
    "with open(\"life_summary.json\", \"r\", encoding=\"utf-8\") as file:\n",
    "    life_summary = json.load(file)"
   ]
  },
  {
   "cell_type": "code",
   "execution_count": 16,
   "metadata": {},
   "outputs": [],
   "source": [
    "prompt_template = ChatPromptTemplate.from_messages(\n",
    "    [\n",
    "        SystemMessage(\"\"\"Tu est un assistant aidant les personnes agées atteintes de déficience de la mémoire à long terme\n",
    "        à se rappeler des moments marquants de leur vie\"\"\"),\n",
    "        (\"user\", \"\"\"\n",
    "         Voici ldes informations sur la personne agée :\n",
    "            Nom : {name}\n",
    "            Age : {age}\n",
    "            Profession : {occupation}\n",
    "         Voici différents souvenirs exprimées par des proches de Monique ayant participé au marriage de Thibault son petit fils :\n",
    "            {memories}\n",
    "         Raconte ce mariage à Monique sous une forme narative de 100 mots environ.\n",
    "         Fais le avec l'intention que Monique puisse se souvenir de ces souvenirs.\n",
    "         Adresse toi à Monique sur un ton amical et bienveillant.\n",
    "         \"\"\"),\n",
    "    ]\n",
    ")\n",
    "chain = prompt_template | model"
   ]
  },
  {
   "cell_type": "code",
   "execution_count": 17,
   "metadata": {},
   "outputs": [],
   "source": [
    "resume = chain.invoke({\"name\": \"Monique\", \"age\": \"75\", \"occupation\": \"Ancienne Assistante sociale\", \"memories\":life_summary})"
   ]
  },
  {
   "cell_type": "code",
   "execution_count": null,
   "metadata": {},
   "outputs": [
    {
     "data": {
      "text/markdown": [
       "Monique, tu te souviens du mariage de ton petit-fils Thibault ? C'était une journée magnifique, remplie de joie et d'émotion. La cérémonie à l'église du village était si émouvante, avec la décoration élégante et les moments de partage. Ensuite, à la salle de réception, tout le monde a dansé et ri, comme si nous étions encore jeunes. Ton amie d'enfance Marie était là, et vous avez partagé tant de souvenirs ensemble. Ton frère Jean était très fier de voir la famille réunie. Ta fille Sophie était remplie de bonheur de te voir si heureuse. C'était vraiment un jour inoubliable, entourée de tous tes proches."
      ],
      "text/plain": [
       "<IPython.core.display.Markdown object>"
      ]
     },
     "metadata": {},
     "output_type": "display_data"
    }
   ],
   "source": [
    "display(Markdown(resume.content))"
   ]
  },
  {
   "cell_type": "code",
   "execution_count": null,
   "metadata": {},
   "outputs": [],
   "source": []
  }
 ],
 "metadata": {
  "kernelspec": {
   "display_name": ".venv",
   "language": "python",
   "name": "python3"
  },
  "language_info": {
   "codemirror_mode": {
    "name": "ipython",
    "version": 3
   },
   "file_extension": ".py",
   "mimetype": "text/x-python",
   "name": "python",
   "nbconvert_exporter": "python",
   "pygments_lexer": "ipython3",
   "version": "3.11.2"
  }
 },
 "nbformat": 4,
 "nbformat_minor": 2
}
